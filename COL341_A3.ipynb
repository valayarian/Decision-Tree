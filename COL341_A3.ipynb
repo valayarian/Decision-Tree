{
 "cells": [
  {
   "cell_type": "markdown",
   "id": "410aff4d",
   "metadata": {},
   "source": [
    "# Import commands"
   ]
  },
  {
   "cell_type": "code",
   "execution_count": 1,
   "id": "4c2528db",
   "metadata": {
    "scrolled": false
   },
   "outputs": [
    {
     "name": "stdout",
     "output_type": "stream",
     "text": [
      "Collecting opencv-python\n",
      "  Downloading opencv_python-4.7.0.72-cp37-abi3-macosx_10_16_x86_64.whl (53.9 MB)\n",
      "\u001b[K     |████████████████████████████████| 53.9 MB 132 kB/s eta 0:00:01\n",
      "\u001b[?25hRequirement already satisfied: numpy>=1.17.3 in ./opt/anaconda3/lib/python3.9/site-packages (from opencv-python) (1.21.6)\n",
      "Installing collected packages: opencv-python\n",
      "Successfully installed opencv-python-4.7.0.72\n"
     ]
    }
   ],
   "source": [
    "!pip install opencv-python"
   ]
  },
  {
   "cell_type": "code",
   "execution_count": 142,
   "id": "362c8533",
   "metadata": {
    "scrolled": false
   },
   "outputs": [
    {
     "name": "stdout",
     "output_type": "stream",
     "text": [
      "Collecting xgboost\n",
      "  Downloading xgboost-1.7.5-py3-none-macosx_10_15_x86_64.macosx_11_0_x86_64.macosx_12_0_x86_64.whl (1.8 MB)\n",
      "\u001b[K     |████████████████████████████████| 1.8 MB 293 kB/s eta 0:00:01\n",
      "\u001b[?25hRequirement already satisfied: numpy in ./opt/anaconda3/lib/python3.9/site-packages (from xgboost) (1.21.6)\n",
      "Requirement already satisfied: scipy in ./opt/anaconda3/lib/python3.9/site-packages (from xgboost) (1.8.1)\n",
      "Installing collected packages: xgboost\n",
      "Successfully installed xgboost-1.7.5\n",
      "Note: you may need to restart the kernel to use updated packages.\n"
     ]
    }
   ],
   "source": [
    "pip install xgboost"
   ]
  },
  {
   "cell_type": "code",
   "execution_count": 1,
   "id": "e42a8cbd",
   "metadata": {},
   "outputs": [],
   "source": [
    "import cv2\n",
    "import os\n",
    "import pandas as pd\n",
    "import numpy as np\n",
    "from sklearn.tree import DecisionTreeClassifier\n",
    "from sklearn.metrics import accuracy_score, precision_score, recall_score\n",
    "import time\n",
    "from sklearn.feature_selection import SelectKBest\n",
    "from sklearn.feature_selection import f_classif\n",
    "from sklearn.model_selection import GridSearchCV\n",
    "from sklearn.tree import plot_tree\n",
    "import matplotlib.pyplot as plt\n",
    "from sklearn.ensemble import RandomForestClassifier\n",
    "from sklearn.ensemble import GradientBoostingClassifier\n",
    "import xgboost as xgb\n",
    "from sklearn import metrics\n",
    "from mlxtend.evaluate import confusion_matrix\n",
    "from sklearn.metrics import plot_confusion_matrix\n",
    "from xgboost import XGBClassifier"
   ]
  },
  {
   "cell_type": "markdown",
   "id": "31c21cd8",
   "metadata": {},
   "source": [
    "# BINARY CLASSIFICATION"
   ]
  },
  {
   "cell_type": "markdown",
   "id": "262c7dc1",
   "metadata": {},
   "source": [
    "# Training Data Extraxtion"
   ]
  },
  {
   "cell_type": "code",
   "execution_count": 2,
   "id": "da505014",
   "metadata": {},
   "outputs": [],
   "source": [
    "folder_path = '/Users/valayaramchandani/Downloads/trainpics'"
   ]
  },
  {
   "cell_type": "code",
   "execution_count": 3,
   "id": "b645e727",
   "metadata": {},
   "outputs": [],
   "source": [
    "label_folders = {'person': 1, 'airplane': 0, 'car': 0, 'dog': 0}"
   ]
  },
  {
   "cell_type": "code",
   "execution_count": 4,
   "id": "5df2fe1d",
   "metadata": {
    "scrolled": true
   },
   "outputs": [],
   "source": [
    "data=[]\n",
    "#Main folder which contains 4 subfolders\n",
    "for folder in os.listdir(folder_path):\n",
    "    if folder in label_folders:\n",
    "        label = label_folders[folder]\n",
    "        folder_images = os.listdir(os.path.join(folder_path, folder))\n",
    "        for image_name in folder_images:\n",
    "            if not image_name.startswith('.') and image_name.endswith(('png')):\n",
    "                image_path = os.path.join(folder_path, folder, image_name)\n",
    "                image = cv2.imread(image_path)\n",
    "                if image is not None:\n",
    "                      data.append([image,label])\n",
    "                else:\n",
    "                    print(\"Could not read image: \" + image_path)\n"
   ]
  },
  {
   "cell_type": "code",
   "execution_count": 5,
   "id": "3446c7aa",
   "metadata": {
    "scrolled": true
   },
   "outputs": [
    {
     "name": "stderr",
     "output_type": "stream",
     "text": [
      "/var/folders/8v/4n20m59n1z7g8vbcnjym5g_r0000gn/T/ipykernel_75353/4120307329.py:6: FutureWarning: The frame.append method is deprecated and will be removed from pandas in a future version. Use pandas.concat instead.\n",
      "  df = df.append(pd.Series(row), ignore_index=True)\n",
      "/var/folders/8v/4n20m59n1z7g8vbcnjym5g_r0000gn/T/ipykernel_75353/4120307329.py:6: FutureWarning: The frame.append method is deprecated and will be removed from pandas in a future version. Use pandas.concat instead.\n",
      "  df = df.append(pd.Series(row), ignore_index=True)\n"
     ]
    }
   ],
   "source": [
    "df = pd.DataFrame()\n",
    "for i in range(len(data)):\n",
    "    row = data[i][0].reshape(1,-1)\n",
    "    row = row.flatten()\n",
    "    row = np.append(row,data[i][1])\n",
    "    df = df.append(pd.Series(row), ignore_index=True)"
   ]
  },
  {
   "cell_type": "code",
   "execution_count": 6,
   "id": "e35105da",
   "metadata": {},
   "outputs": [
    {
     "data": {
      "text/html": [
       "<div>\n",
       "<style scoped>\n",
       "    .dataframe tbody tr th:only-of-type {\n",
       "        vertical-align: middle;\n",
       "    }\n",
       "\n",
       "    .dataframe tbody tr th {\n",
       "        vertical-align: top;\n",
       "    }\n",
       "\n",
       "    .dataframe thead th {\n",
       "        text-align: right;\n",
       "    }\n",
       "</style>\n",
       "<table border=\"1\" class=\"dataframe\">\n",
       "  <thead>\n",
       "    <tr style=\"text-align: right;\">\n",
       "      <th></th>\n",
       "      <th>0</th>\n",
       "      <th>1</th>\n",
       "      <th>2</th>\n",
       "      <th>3</th>\n",
       "      <th>4</th>\n",
       "      <th>5</th>\n",
       "      <th>6</th>\n",
       "      <th>7</th>\n",
       "      <th>8</th>\n",
       "      <th>9</th>\n",
       "      <th>...</th>\n",
       "      <th>3063</th>\n",
       "      <th>3064</th>\n",
       "      <th>3065</th>\n",
       "      <th>3066</th>\n",
       "      <th>3067</th>\n",
       "      <th>3068</th>\n",
       "      <th>3069</th>\n",
       "      <th>3070</th>\n",
       "      <th>3071</th>\n",
       "      <th>3072</th>\n",
       "    </tr>\n",
       "  </thead>\n",
       "  <tbody>\n",
       "    <tr>\n",
       "      <th>0</th>\n",
       "      <td>68</td>\n",
       "      <td>65</td>\n",
       "      <td>67</td>\n",
       "      <td>70</td>\n",
       "      <td>66</td>\n",
       "      <td>71</td>\n",
       "      <td>71</td>\n",
       "      <td>67</td>\n",
       "      <td>73</td>\n",
       "      <td>73</td>\n",
       "      <td>...</td>\n",
       "      <td>130</td>\n",
       "      <td>126</td>\n",
       "      <td>131</td>\n",
       "      <td>130</td>\n",
       "      <td>126</td>\n",
       "      <td>131</td>\n",
       "      <td>130</td>\n",
       "      <td>126</td>\n",
       "      <td>131</td>\n",
       "      <td>0</td>\n",
       "    </tr>\n",
       "    <tr>\n",
       "      <th>1</th>\n",
       "      <td>53</td>\n",
       "      <td>58</td>\n",
       "      <td>57</td>\n",
       "      <td>47</td>\n",
       "      <td>51</td>\n",
       "      <td>50</td>\n",
       "      <td>63</td>\n",
       "      <td>66</td>\n",
       "      <td>66</td>\n",
       "      <td>42</td>\n",
       "      <td>...</td>\n",
       "      <td>130</td>\n",
       "      <td>144</td>\n",
       "      <td>156</td>\n",
       "      <td>129</td>\n",
       "      <td>143</td>\n",
       "      <td>155</td>\n",
       "      <td>128</td>\n",
       "      <td>142</td>\n",
       "      <td>154</td>\n",
       "      <td>0</td>\n",
       "    </tr>\n",
       "    <tr>\n",
       "      <th>2</th>\n",
       "      <td>51</td>\n",
       "      <td>83</td>\n",
       "      <td>76</td>\n",
       "      <td>58</td>\n",
       "      <td>97</td>\n",
       "      <td>89</td>\n",
       "      <td>67</td>\n",
       "      <td>108</td>\n",
       "      <td>100</td>\n",
       "      <td>60</td>\n",
       "      <td>...</td>\n",
       "      <td>141</td>\n",
       "      <td>143</td>\n",
       "      <td>153</td>\n",
       "      <td>143</td>\n",
       "      <td>146</td>\n",
       "      <td>155</td>\n",
       "      <td>145</td>\n",
       "      <td>148</td>\n",
       "      <td>157</td>\n",
       "      <td>0</td>\n",
       "    </tr>\n",
       "    <tr>\n",
       "      <th>3</th>\n",
       "      <td>203</td>\n",
       "      <td>200</td>\n",
       "      <td>202</td>\n",
       "      <td>205</td>\n",
       "      <td>202</td>\n",
       "      <td>204</td>\n",
       "      <td>207</td>\n",
       "      <td>202</td>\n",
       "      <td>204</td>\n",
       "      <td>206</td>\n",
       "      <td>...</td>\n",
       "      <td>72</td>\n",
       "      <td>72</td>\n",
       "      <td>72</td>\n",
       "      <td>87</td>\n",
       "      <td>87</td>\n",
       "      <td>87</td>\n",
       "      <td>115</td>\n",
       "      <td>113</td>\n",
       "      <td>115</td>\n",
       "      <td>0</td>\n",
       "    </tr>\n",
       "    <tr>\n",
       "      <th>4</th>\n",
       "      <td>44</td>\n",
       "      <td>59</td>\n",
       "      <td>78</td>\n",
       "      <td>42</td>\n",
       "      <td>56</td>\n",
       "      <td>74</td>\n",
       "      <td>39</td>\n",
       "      <td>53</td>\n",
       "      <td>72</td>\n",
       "      <td>48</td>\n",
       "      <td>...</td>\n",
       "      <td>22</td>\n",
       "      <td>21</td>\n",
       "      <td>21</td>\n",
       "      <td>21</td>\n",
       "      <td>21</td>\n",
       "      <td>21</td>\n",
       "      <td>20</td>\n",
       "      <td>20</td>\n",
       "      <td>20</td>\n",
       "      <td>0</td>\n",
       "    </tr>\n",
       "    <tr>\n",
       "      <th>...</th>\n",
       "      <td>...</td>\n",
       "      <td>...</td>\n",
       "      <td>...</td>\n",
       "      <td>...</td>\n",
       "      <td>...</td>\n",
       "      <td>...</td>\n",
       "      <td>...</td>\n",
       "      <td>...</td>\n",
       "      <td>...</td>\n",
       "      <td>...</td>\n",
       "      <td>...</td>\n",
       "      <td>...</td>\n",
       "      <td>...</td>\n",
       "      <td>...</td>\n",
       "      <td>...</td>\n",
       "      <td>...</td>\n",
       "      <td>...</td>\n",
       "      <td>...</td>\n",
       "      <td>...</td>\n",
       "      <td>...</td>\n",
       "      <td>...</td>\n",
       "    </tr>\n",
       "    <tr>\n",
       "      <th>1995</th>\n",
       "      <td>93</td>\n",
       "      <td>67</td>\n",
       "      <td>43</td>\n",
       "      <td>102</td>\n",
       "      <td>91</td>\n",
       "      <td>73</td>\n",
       "      <td>143</td>\n",
       "      <td>115</td>\n",
       "      <td>89</td>\n",
       "      <td>152</td>\n",
       "      <td>...</td>\n",
       "      <td>146</td>\n",
       "      <td>109</td>\n",
       "      <td>74</td>\n",
       "      <td>143</td>\n",
       "      <td>108</td>\n",
       "      <td>74</td>\n",
       "      <td>144</td>\n",
       "      <td>107</td>\n",
       "      <td>73</td>\n",
       "      <td>0</td>\n",
       "    </tr>\n",
       "    <tr>\n",
       "      <th>1996</th>\n",
       "      <td>155</td>\n",
       "      <td>120</td>\n",
       "      <td>54</td>\n",
       "      <td>158</td>\n",
       "      <td>112</td>\n",
       "      <td>59</td>\n",
       "      <td>148</td>\n",
       "      <td>122</td>\n",
       "      <td>70</td>\n",
       "      <td>150</td>\n",
       "      <td>...</td>\n",
       "      <td>171</td>\n",
       "      <td>144</td>\n",
       "      <td>117</td>\n",
       "      <td>167</td>\n",
       "      <td>140</td>\n",
       "      <td>113</td>\n",
       "      <td>162</td>\n",
       "      <td>140</td>\n",
       "      <td>112</td>\n",
       "      <td>0</td>\n",
       "    </tr>\n",
       "    <tr>\n",
       "      <th>1997</th>\n",
       "      <td>102</td>\n",
       "      <td>108</td>\n",
       "      <td>107</td>\n",
       "      <td>103</td>\n",
       "      <td>109</td>\n",
       "      <td>104</td>\n",
       "      <td>111</td>\n",
       "      <td>112</td>\n",
       "      <td>104</td>\n",
       "      <td>109</td>\n",
       "      <td>...</td>\n",
       "      <td>115</td>\n",
       "      <td>120</td>\n",
       "      <td>118</td>\n",
       "      <td>115</td>\n",
       "      <td>120</td>\n",
       "      <td>118</td>\n",
       "      <td>115</td>\n",
       "      <td>120</td>\n",
       "      <td>118</td>\n",
       "      <td>0</td>\n",
       "    </tr>\n",
       "    <tr>\n",
       "      <th>1998</th>\n",
       "      <td>210</td>\n",
       "      <td>162</td>\n",
       "      <td>118</td>\n",
       "      <td>208</td>\n",
       "      <td>163</td>\n",
       "      <td>122</td>\n",
       "      <td>208</td>\n",
       "      <td>163</td>\n",
       "      <td>125</td>\n",
       "      <td>213</td>\n",
       "      <td>...</td>\n",
       "      <td>208</td>\n",
       "      <td>156</td>\n",
       "      <td>111</td>\n",
       "      <td>209</td>\n",
       "      <td>159</td>\n",
       "      <td>115</td>\n",
       "      <td>210</td>\n",
       "      <td>159</td>\n",
       "      <td>115</td>\n",
       "      <td>0</td>\n",
       "    </tr>\n",
       "    <tr>\n",
       "      <th>1999</th>\n",
       "      <td>128</td>\n",
       "      <td>104</td>\n",
       "      <td>76</td>\n",
       "      <td>129</td>\n",
       "      <td>105</td>\n",
       "      <td>77</td>\n",
       "      <td>66</td>\n",
       "      <td>178</td>\n",
       "      <td>224</td>\n",
       "      <td>149</td>\n",
       "      <td>...</td>\n",
       "      <td>138</td>\n",
       "      <td>113</td>\n",
       "      <td>79</td>\n",
       "      <td>137</td>\n",
       "      <td>111</td>\n",
       "      <td>81</td>\n",
       "      <td>132</td>\n",
       "      <td>108</td>\n",
       "      <td>78</td>\n",
       "      <td>0</td>\n",
       "    </tr>\n",
       "  </tbody>\n",
       "</table>\n",
       "<p>2000 rows × 3073 columns</p>\n",
       "</div>"
      ],
      "text/plain": [
       "      0     1     2     3     4     5     6     7     8     9     ...  3063  \\\n",
       "0       68    65    67    70    66    71    71    67    73    73  ...   130   \n",
       "1       53    58    57    47    51    50    63    66    66    42  ...   130   \n",
       "2       51    83    76    58    97    89    67   108   100    60  ...   141   \n",
       "3      203   200   202   205   202   204   207   202   204   206  ...    72   \n",
       "4       44    59    78    42    56    74    39    53    72    48  ...    22   \n",
       "...    ...   ...   ...   ...   ...   ...   ...   ...   ...   ...  ...   ...   \n",
       "1995    93    67    43   102    91    73   143   115    89   152  ...   146   \n",
       "1996   155   120    54   158   112    59   148   122    70   150  ...   171   \n",
       "1997   102   108   107   103   109   104   111   112   104   109  ...   115   \n",
       "1998   210   162   118   208   163   122   208   163   125   213  ...   208   \n",
       "1999   128   104    76   129   105    77    66   178   224   149  ...   138   \n",
       "\n",
       "      3064  3065  3066  3067  3068  3069  3070  3071  3072  \n",
       "0      126   131   130   126   131   130   126   131     0  \n",
       "1      144   156   129   143   155   128   142   154     0  \n",
       "2      143   153   143   146   155   145   148   157     0  \n",
       "3       72    72    87    87    87   115   113   115     0  \n",
       "4       21    21    21    21    21    20    20    20     0  \n",
       "...    ...   ...   ...   ...   ...   ...   ...   ...   ...  \n",
       "1995   109    74   143   108    74   144   107    73     0  \n",
       "1996   144   117   167   140   113   162   140   112     0  \n",
       "1997   120   118   115   120   118   115   120   118     0  \n",
       "1998   156   111   209   159   115   210   159   115     0  \n",
       "1999   113    79   137   111    81   132   108    78     0  \n",
       "\n",
       "[2000 rows x 3073 columns]"
      ]
     },
     "execution_count": 6,
     "metadata": {},
     "output_type": "execute_result"
    }
   ],
   "source": [
    "df"
   ]
  },
  {
   "cell_type": "code",
   "execution_count": 7,
   "id": "2922196b",
   "metadata": {},
   "outputs": [],
   "source": [
    "X = df.iloc[:,:-1]"
   ]
  },
  {
   "cell_type": "code",
   "execution_count": 8,
   "id": "6f483ba3",
   "metadata": {},
   "outputs": [],
   "source": [
    "y = df[3072]"
   ]
  },
  {
   "cell_type": "code",
   "execution_count": 9,
   "id": "848884cf",
   "metadata": {},
   "outputs": [
    {
     "data": {
      "text/plain": [
       "0       0\n",
       "1       0\n",
       "2       0\n",
       "3       0\n",
       "4       0\n",
       "       ..\n",
       "1995    0\n",
       "1996    0\n",
       "1997    0\n",
       "1998    0\n",
       "1999    0\n",
       "Name: 3072, Length: 2000, dtype: int64"
      ]
     },
     "execution_count": 9,
     "metadata": {},
     "output_type": "execute_result"
    }
   ],
   "source": [
    "y"
   ]
  },
  {
   "cell_type": "markdown",
   "id": "20e863bd",
   "metadata": {},
   "source": [
    "# Validation Data Extraction"
   ]
  },
  {
   "cell_type": "code",
   "execution_count": 10,
   "id": "ab622f0b",
   "metadata": {},
   "outputs": [],
   "source": [
    "folder_path_val = '/Users/valayaramchandani/Downloads/valpics'\n",
    "label_folders = {'person': 1, 'airplane': 0, 'car': 0, 'dog': 0}\n",
    "data_val=[]\n",
    "#Main folder which contains 4 subfolders\n",
    "for folder in os.listdir(folder_path_val):\n",
    "    if folder in label_folders:\n",
    "        label = label_folders[folder]\n",
    "        folder_images = os.listdir(os.path.join(folder_path_val, folder))\n",
    "        for image_name in folder_images:\n",
    "            if not image_name.startswith('.') and image_name.endswith(('png')):\n",
    "                image_path = os.path.join(folder_path_val, folder, image_name)\n",
    "                image = cv2.imread(image_path)\n",
    "                if image is not None:\n",
    "                      data_val.append([image,label])\n",
    "                else:\n",
    "                    print(\"Could not read image: \" + image_path)"
   ]
  },
  {
   "cell_type": "code",
   "execution_count": 11,
   "id": "ee15e1fd",
   "metadata": {},
   "outputs": [
    {
     "name": "stderr",
     "output_type": "stream",
     "text": [
      "/var/folders/8v/4n20m59n1z7g8vbcnjym5g_r0000gn/T/ipykernel_75353/2174921034.py:6: FutureWarning: The frame.append method is deprecated and will be removed from pandas in a future version. Use pandas.concat instead.\n",
      "  df_val = df_val.append(pd.Series(row), ignore_index=True)\n",
      "/var/folders/8v/4n20m59n1z7g8vbcnjym5g_r0000gn/T/ipykernel_75353/2174921034.py:6: FutureWarning: The frame.append method is deprecated and will be removed from pandas in a future version. Use pandas.concat instead.\n",
      "  df_val = df_val.append(pd.Series(row), ignore_index=True)\n"
     ]
    }
   ],
   "source": [
    "df_val = pd.DataFrame()\n",
    "for i in range(len(data_val)):\n",
    "    row = data_val[i][0].reshape(1,-1)\n",
    "    row = row.flatten()\n",
    "    row = np.append(row,data_val[i][1])\n",
    "    df_val = df_val.append(pd.Series(row), ignore_index=True)"
   ]
  },
  {
   "cell_type": "code",
   "execution_count": 12,
   "id": "fa3d9db0",
   "metadata": {},
   "outputs": [
    {
     "data": {
      "text/html": [
       "<div>\n",
       "<style scoped>\n",
       "    .dataframe tbody tr th:only-of-type {\n",
       "        vertical-align: middle;\n",
       "    }\n",
       "\n",
       "    .dataframe tbody tr th {\n",
       "        vertical-align: top;\n",
       "    }\n",
       "\n",
       "    .dataframe thead th {\n",
       "        text-align: right;\n",
       "    }\n",
       "</style>\n",
       "<table border=\"1\" class=\"dataframe\">\n",
       "  <thead>\n",
       "    <tr style=\"text-align: right;\">\n",
       "      <th></th>\n",
       "      <th>0</th>\n",
       "      <th>1</th>\n",
       "      <th>2</th>\n",
       "      <th>3</th>\n",
       "      <th>4</th>\n",
       "      <th>5</th>\n",
       "      <th>6</th>\n",
       "      <th>7</th>\n",
       "      <th>8</th>\n",
       "      <th>9</th>\n",
       "      <th>...</th>\n",
       "      <th>3063</th>\n",
       "      <th>3064</th>\n",
       "      <th>3065</th>\n",
       "      <th>3066</th>\n",
       "      <th>3067</th>\n",
       "      <th>3068</th>\n",
       "      <th>3069</th>\n",
       "      <th>3070</th>\n",
       "      <th>3071</th>\n",
       "      <th>3072</th>\n",
       "    </tr>\n",
       "  </thead>\n",
       "  <tbody>\n",
       "    <tr>\n",
       "      <th>0</th>\n",
       "      <td>141</td>\n",
       "      <td>142</td>\n",
       "      <td>146</td>\n",
       "      <td>142</td>\n",
       "      <td>143</td>\n",
       "      <td>147</td>\n",
       "      <td>144</td>\n",
       "      <td>145</td>\n",
       "      <td>147</td>\n",
       "      <td>138</td>\n",
       "      <td>...</td>\n",
       "      <td>15</td>\n",
       "      <td>13</td>\n",
       "      <td>14</td>\n",
       "      <td>17</td>\n",
       "      <td>15</td>\n",
       "      <td>16</td>\n",
       "      <td>15</td>\n",
       "      <td>13</td>\n",
       "      <td>13</td>\n",
       "      <td>0</td>\n",
       "    </tr>\n",
       "    <tr>\n",
       "      <th>1</th>\n",
       "      <td>254</td>\n",
       "      <td>254</td>\n",
       "      <td>251</td>\n",
       "      <td>248</td>\n",
       "      <td>245</td>\n",
       "      <td>240</td>\n",
       "      <td>247</td>\n",
       "      <td>238</td>\n",
       "      <td>229</td>\n",
       "      <td>163</td>\n",
       "      <td>...</td>\n",
       "      <td>74</td>\n",
       "      <td>69</td>\n",
       "      <td>70</td>\n",
       "      <td>86</td>\n",
       "      <td>78</td>\n",
       "      <td>78</td>\n",
       "      <td>99</td>\n",
       "      <td>89</td>\n",
       "      <td>89</td>\n",
       "      <td>0</td>\n",
       "    </tr>\n",
       "    <tr>\n",
       "      <th>2</th>\n",
       "      <td>98</td>\n",
       "      <td>126</td>\n",
       "      <td>143</td>\n",
       "      <td>105</td>\n",
       "      <td>134</td>\n",
       "      <td>155</td>\n",
       "      <td>106</td>\n",
       "      <td>137</td>\n",
       "      <td>160</td>\n",
       "      <td>106</td>\n",
       "      <td>...</td>\n",
       "      <td>116</td>\n",
       "      <td>155</td>\n",
       "      <td>191</td>\n",
       "      <td>44</td>\n",
       "      <td>69</td>\n",
       "      <td>93</td>\n",
       "      <td>41</td>\n",
       "      <td>58</td>\n",
       "      <td>73</td>\n",
       "      <td>0</td>\n",
       "    </tr>\n",
       "    <tr>\n",
       "      <th>3</th>\n",
       "      <td>195</td>\n",
       "      <td>175</td>\n",
       "      <td>164</td>\n",
       "      <td>193</td>\n",
       "      <td>173</td>\n",
       "      <td>162</td>\n",
       "      <td>195</td>\n",
       "      <td>175</td>\n",
       "      <td>164</td>\n",
       "      <td>195</td>\n",
       "      <td>...</td>\n",
       "      <td>0</td>\n",
       "      <td>1</td>\n",
       "      <td>10</td>\n",
       "      <td>83</td>\n",
       "      <td>85</td>\n",
       "      <td>95</td>\n",
       "      <td>136</td>\n",
       "      <td>145</td>\n",
       "      <td>155</td>\n",
       "      <td>0</td>\n",
       "    </tr>\n",
       "    <tr>\n",
       "      <th>4</th>\n",
       "      <td>250</td>\n",
       "      <td>173</td>\n",
       "      <td>110</td>\n",
       "      <td>250</td>\n",
       "      <td>171</td>\n",
       "      <td>112</td>\n",
       "      <td>250</td>\n",
       "      <td>170</td>\n",
       "      <td>109</td>\n",
       "      <td>197</td>\n",
       "      <td>...</td>\n",
       "      <td>170</td>\n",
       "      <td>180</td>\n",
       "      <td>186</td>\n",
       "      <td>170</td>\n",
       "      <td>179</td>\n",
       "      <td>188</td>\n",
       "      <td>165</td>\n",
       "      <td>174</td>\n",
       "      <td>183</td>\n",
       "      <td>0</td>\n",
       "    </tr>\n",
       "    <tr>\n",
       "      <th>...</th>\n",
       "      <td>...</td>\n",
       "      <td>...</td>\n",
       "      <td>...</td>\n",
       "      <td>...</td>\n",
       "      <td>...</td>\n",
       "      <td>...</td>\n",
       "      <td>...</td>\n",
       "      <td>...</td>\n",
       "      <td>...</td>\n",
       "      <td>...</td>\n",
       "      <td>...</td>\n",
       "      <td>...</td>\n",
       "      <td>...</td>\n",
       "      <td>...</td>\n",
       "      <td>...</td>\n",
       "      <td>...</td>\n",
       "      <td>...</td>\n",
       "      <td>...</td>\n",
       "      <td>...</td>\n",
       "      <td>...</td>\n",
       "      <td>...</td>\n",
       "    </tr>\n",
       "    <tr>\n",
       "      <th>395</th>\n",
       "      <td>64</td>\n",
       "      <td>91</td>\n",
       "      <td>121</td>\n",
       "      <td>130</td>\n",
       "      <td>125</td>\n",
       "      <td>131</td>\n",
       "      <td>134</td>\n",
       "      <td>128</td>\n",
       "      <td>124</td>\n",
       "      <td>100</td>\n",
       "      <td>...</td>\n",
       "      <td>131</td>\n",
       "      <td>153</td>\n",
       "      <td>178</td>\n",
       "      <td>130</td>\n",
       "      <td>153</td>\n",
       "      <td>176</td>\n",
       "      <td>134</td>\n",
       "      <td>158</td>\n",
       "      <td>179</td>\n",
       "      <td>0</td>\n",
       "    </tr>\n",
       "    <tr>\n",
       "      <th>396</th>\n",
       "      <td>47</td>\n",
       "      <td>53</td>\n",
       "      <td>28</td>\n",
       "      <td>48</td>\n",
       "      <td>44</td>\n",
       "      <td>23</td>\n",
       "      <td>57</td>\n",
       "      <td>57</td>\n",
       "      <td>40</td>\n",
       "      <td>59</td>\n",
       "      <td>...</td>\n",
       "      <td>73</td>\n",
       "      <td>91</td>\n",
       "      <td>90</td>\n",
       "      <td>67</td>\n",
       "      <td>88</td>\n",
       "      <td>86</td>\n",
       "      <td>60</td>\n",
       "      <td>83</td>\n",
       "      <td>79</td>\n",
       "      <td>0</td>\n",
       "    </tr>\n",
       "    <tr>\n",
       "      <th>397</th>\n",
       "      <td>178</td>\n",
       "      <td>184</td>\n",
       "      <td>193</td>\n",
       "      <td>146</td>\n",
       "      <td>162</td>\n",
       "      <td>165</td>\n",
       "      <td>153</td>\n",
       "      <td>163</td>\n",
       "      <td>167</td>\n",
       "      <td>185</td>\n",
       "      <td>...</td>\n",
       "      <td>96</td>\n",
       "      <td>108</td>\n",
       "      <td>108</td>\n",
       "      <td>103</td>\n",
       "      <td>111</td>\n",
       "      <td>115</td>\n",
       "      <td>104</td>\n",
       "      <td>115</td>\n",
       "      <td>113</td>\n",
       "      <td>0</td>\n",
       "    </tr>\n",
       "    <tr>\n",
       "      <th>398</th>\n",
       "      <td>178</td>\n",
       "      <td>156</td>\n",
       "      <td>115</td>\n",
       "      <td>176</td>\n",
       "      <td>155</td>\n",
       "      <td>117</td>\n",
       "      <td>183</td>\n",
       "      <td>159</td>\n",
       "      <td>115</td>\n",
       "      <td>188</td>\n",
       "      <td>...</td>\n",
       "      <td>182</td>\n",
       "      <td>162</td>\n",
       "      <td>115</td>\n",
       "      <td>179</td>\n",
       "      <td>157</td>\n",
       "      <td>115</td>\n",
       "      <td>179</td>\n",
       "      <td>157</td>\n",
       "      <td>115</td>\n",
       "      <td>0</td>\n",
       "    </tr>\n",
       "    <tr>\n",
       "      <th>399</th>\n",
       "      <td>132</td>\n",
       "      <td>118</td>\n",
       "      <td>99</td>\n",
       "      <td>174</td>\n",
       "      <td>162</td>\n",
       "      <td>128</td>\n",
       "      <td>179</td>\n",
       "      <td>158</td>\n",
       "      <td>137</td>\n",
       "      <td>179</td>\n",
       "      <td>...</td>\n",
       "      <td>36</td>\n",
       "      <td>56</td>\n",
       "      <td>57</td>\n",
       "      <td>77</td>\n",
       "      <td>109</td>\n",
       "      <td>104</td>\n",
       "      <td>76</td>\n",
       "      <td>111</td>\n",
       "      <td>106</td>\n",
       "      <td>0</td>\n",
       "    </tr>\n",
       "  </tbody>\n",
       "</table>\n",
       "<p>400 rows × 3073 columns</p>\n",
       "</div>"
      ],
      "text/plain": [
       "     0     1     2     3     4     5     6     7     8     9     ...  3063  \\\n",
       "0     141   142   146   142   143   147   144   145   147   138  ...    15   \n",
       "1     254   254   251   248   245   240   247   238   229   163  ...    74   \n",
       "2      98   126   143   105   134   155   106   137   160   106  ...   116   \n",
       "3     195   175   164   193   173   162   195   175   164   195  ...     0   \n",
       "4     250   173   110   250   171   112   250   170   109   197  ...   170   \n",
       "..    ...   ...   ...   ...   ...   ...   ...   ...   ...   ...  ...   ...   \n",
       "395    64    91   121   130   125   131   134   128   124   100  ...   131   \n",
       "396    47    53    28    48    44    23    57    57    40    59  ...    73   \n",
       "397   178   184   193   146   162   165   153   163   167   185  ...    96   \n",
       "398   178   156   115   176   155   117   183   159   115   188  ...   182   \n",
       "399   132   118    99   174   162   128   179   158   137   179  ...    36   \n",
       "\n",
       "     3064  3065  3066  3067  3068  3069  3070  3071  3072  \n",
       "0      13    14    17    15    16    15    13    13     0  \n",
       "1      69    70    86    78    78    99    89    89     0  \n",
       "2     155   191    44    69    93    41    58    73     0  \n",
       "3       1    10    83    85    95   136   145   155     0  \n",
       "4     180   186   170   179   188   165   174   183     0  \n",
       "..    ...   ...   ...   ...   ...   ...   ...   ...   ...  \n",
       "395   153   178   130   153   176   134   158   179     0  \n",
       "396    91    90    67    88    86    60    83    79     0  \n",
       "397   108   108   103   111   115   104   115   113     0  \n",
       "398   162   115   179   157   115   179   157   115     0  \n",
       "399    56    57    77   109   104    76   111   106     0  \n",
       "\n",
       "[400 rows x 3073 columns]"
      ]
     },
     "execution_count": 12,
     "metadata": {},
     "output_type": "execute_result"
    }
   ],
   "source": [
    "df_val"
   ]
  },
  {
   "cell_type": "code",
   "execution_count": 13,
   "id": "1d3ca22d",
   "metadata": {},
   "outputs": [],
   "source": [
    "X_val = df_val.iloc[:,:-1]\n",
    "y_val = df_val[3072]"
   ]
  },
  {
   "cell_type": "code",
   "execution_count": 14,
   "id": "f0a43851",
   "metadata": {},
   "outputs": [
    {
     "data": {
      "text/html": [
       "<div>\n",
       "<style scoped>\n",
       "    .dataframe tbody tr th:only-of-type {\n",
       "        vertical-align: middle;\n",
       "    }\n",
       "\n",
       "    .dataframe tbody tr th {\n",
       "        vertical-align: top;\n",
       "    }\n",
       "\n",
       "    .dataframe thead th {\n",
       "        text-align: right;\n",
       "    }\n",
       "</style>\n",
       "<table border=\"1\" class=\"dataframe\">\n",
       "  <thead>\n",
       "    <tr style=\"text-align: right;\">\n",
       "      <th></th>\n",
       "      <th>0</th>\n",
       "      <th>1</th>\n",
       "      <th>2</th>\n",
       "      <th>3</th>\n",
       "      <th>4</th>\n",
       "      <th>5</th>\n",
       "      <th>6</th>\n",
       "      <th>7</th>\n",
       "      <th>8</th>\n",
       "      <th>9</th>\n",
       "      <th>...</th>\n",
       "      <th>3062</th>\n",
       "      <th>3063</th>\n",
       "      <th>3064</th>\n",
       "      <th>3065</th>\n",
       "      <th>3066</th>\n",
       "      <th>3067</th>\n",
       "      <th>3068</th>\n",
       "      <th>3069</th>\n",
       "      <th>3070</th>\n",
       "      <th>3071</th>\n",
       "    </tr>\n",
       "  </thead>\n",
       "  <tbody>\n",
       "    <tr>\n",
       "      <th>0</th>\n",
       "      <td>141</td>\n",
       "      <td>142</td>\n",
       "      <td>146</td>\n",
       "      <td>142</td>\n",
       "      <td>143</td>\n",
       "      <td>147</td>\n",
       "      <td>144</td>\n",
       "      <td>145</td>\n",
       "      <td>147</td>\n",
       "      <td>138</td>\n",
       "      <td>...</td>\n",
       "      <td>16</td>\n",
       "      <td>15</td>\n",
       "      <td>13</td>\n",
       "      <td>14</td>\n",
       "      <td>17</td>\n",
       "      <td>15</td>\n",
       "      <td>16</td>\n",
       "      <td>15</td>\n",
       "      <td>13</td>\n",
       "      <td>13</td>\n",
       "    </tr>\n",
       "    <tr>\n",
       "      <th>1</th>\n",
       "      <td>254</td>\n",
       "      <td>254</td>\n",
       "      <td>251</td>\n",
       "      <td>248</td>\n",
       "      <td>245</td>\n",
       "      <td>240</td>\n",
       "      <td>247</td>\n",
       "      <td>238</td>\n",
       "      <td>229</td>\n",
       "      <td>163</td>\n",
       "      <td>...</td>\n",
       "      <td>56</td>\n",
       "      <td>74</td>\n",
       "      <td>69</td>\n",
       "      <td>70</td>\n",
       "      <td>86</td>\n",
       "      <td>78</td>\n",
       "      <td>78</td>\n",
       "      <td>99</td>\n",
       "      <td>89</td>\n",
       "      <td>89</td>\n",
       "    </tr>\n",
       "    <tr>\n",
       "      <th>2</th>\n",
       "      <td>98</td>\n",
       "      <td>126</td>\n",
       "      <td>143</td>\n",
       "      <td>105</td>\n",
       "      <td>134</td>\n",
       "      <td>155</td>\n",
       "      <td>106</td>\n",
       "      <td>137</td>\n",
       "      <td>160</td>\n",
       "      <td>106</td>\n",
       "      <td>...</td>\n",
       "      <td>216</td>\n",
       "      <td>116</td>\n",
       "      <td>155</td>\n",
       "      <td>191</td>\n",
       "      <td>44</td>\n",
       "      <td>69</td>\n",
       "      <td>93</td>\n",
       "      <td>41</td>\n",
       "      <td>58</td>\n",
       "      <td>73</td>\n",
       "    </tr>\n",
       "    <tr>\n",
       "      <th>3</th>\n",
       "      <td>195</td>\n",
       "      <td>175</td>\n",
       "      <td>164</td>\n",
       "      <td>193</td>\n",
       "      <td>173</td>\n",
       "      <td>162</td>\n",
       "      <td>195</td>\n",
       "      <td>175</td>\n",
       "      <td>164</td>\n",
       "      <td>195</td>\n",
       "      <td>...</td>\n",
       "      <td>9</td>\n",
       "      <td>0</td>\n",
       "      <td>1</td>\n",
       "      <td>10</td>\n",
       "      <td>83</td>\n",
       "      <td>85</td>\n",
       "      <td>95</td>\n",
       "      <td>136</td>\n",
       "      <td>145</td>\n",
       "      <td>155</td>\n",
       "    </tr>\n",
       "    <tr>\n",
       "      <th>4</th>\n",
       "      <td>250</td>\n",
       "      <td>173</td>\n",
       "      <td>110</td>\n",
       "      <td>250</td>\n",
       "      <td>171</td>\n",
       "      <td>112</td>\n",
       "      <td>250</td>\n",
       "      <td>170</td>\n",
       "      <td>109</td>\n",
       "      <td>197</td>\n",
       "      <td>...</td>\n",
       "      <td>118</td>\n",
       "      <td>170</td>\n",
       "      <td>180</td>\n",
       "      <td>186</td>\n",
       "      <td>170</td>\n",
       "      <td>179</td>\n",
       "      <td>188</td>\n",
       "      <td>165</td>\n",
       "      <td>174</td>\n",
       "      <td>183</td>\n",
       "    </tr>\n",
       "    <tr>\n",
       "      <th>...</th>\n",
       "      <td>...</td>\n",
       "      <td>...</td>\n",
       "      <td>...</td>\n",
       "      <td>...</td>\n",
       "      <td>...</td>\n",
       "      <td>...</td>\n",
       "      <td>...</td>\n",
       "      <td>...</td>\n",
       "      <td>...</td>\n",
       "      <td>...</td>\n",
       "      <td>...</td>\n",
       "      <td>...</td>\n",
       "      <td>...</td>\n",
       "      <td>...</td>\n",
       "      <td>...</td>\n",
       "      <td>...</td>\n",
       "      <td>...</td>\n",
       "      <td>...</td>\n",
       "      <td>...</td>\n",
       "      <td>...</td>\n",
       "      <td>...</td>\n",
       "    </tr>\n",
       "    <tr>\n",
       "      <th>395</th>\n",
       "      <td>64</td>\n",
       "      <td>91</td>\n",
       "      <td>121</td>\n",
       "      <td>130</td>\n",
       "      <td>125</td>\n",
       "      <td>131</td>\n",
       "      <td>134</td>\n",
       "      <td>128</td>\n",
       "      <td>124</td>\n",
       "      <td>100</td>\n",
       "      <td>...</td>\n",
       "      <td>171</td>\n",
       "      <td>131</td>\n",
       "      <td>153</td>\n",
       "      <td>178</td>\n",
       "      <td>130</td>\n",
       "      <td>153</td>\n",
       "      <td>176</td>\n",
       "      <td>134</td>\n",
       "      <td>158</td>\n",
       "      <td>179</td>\n",
       "    </tr>\n",
       "    <tr>\n",
       "      <th>396</th>\n",
       "      <td>47</td>\n",
       "      <td>53</td>\n",
       "      <td>28</td>\n",
       "      <td>48</td>\n",
       "      <td>44</td>\n",
       "      <td>23</td>\n",
       "      <td>57</td>\n",
       "      <td>57</td>\n",
       "      <td>40</td>\n",
       "      <td>59</td>\n",
       "      <td>...</td>\n",
       "      <td>83</td>\n",
       "      <td>73</td>\n",
       "      <td>91</td>\n",
       "      <td>90</td>\n",
       "      <td>67</td>\n",
       "      <td>88</td>\n",
       "      <td>86</td>\n",
       "      <td>60</td>\n",
       "      <td>83</td>\n",
       "      <td>79</td>\n",
       "    </tr>\n",
       "    <tr>\n",
       "      <th>397</th>\n",
       "      <td>178</td>\n",
       "      <td>184</td>\n",
       "      <td>193</td>\n",
       "      <td>146</td>\n",
       "      <td>162</td>\n",
       "      <td>165</td>\n",
       "      <td>153</td>\n",
       "      <td>163</td>\n",
       "      <td>167</td>\n",
       "      <td>185</td>\n",
       "      <td>...</td>\n",
       "      <td>136</td>\n",
       "      <td>96</td>\n",
       "      <td>108</td>\n",
       "      <td>108</td>\n",
       "      <td>103</td>\n",
       "      <td>111</td>\n",
       "      <td>115</td>\n",
       "      <td>104</td>\n",
       "      <td>115</td>\n",
       "      <td>113</td>\n",
       "    </tr>\n",
       "    <tr>\n",
       "      <th>398</th>\n",
       "      <td>178</td>\n",
       "      <td>156</td>\n",
       "      <td>115</td>\n",
       "      <td>176</td>\n",
       "      <td>155</td>\n",
       "      <td>117</td>\n",
       "      <td>183</td>\n",
       "      <td>159</td>\n",
       "      <td>115</td>\n",
       "      <td>188</td>\n",
       "      <td>...</td>\n",
       "      <td>115</td>\n",
       "      <td>182</td>\n",
       "      <td>162</td>\n",
       "      <td>115</td>\n",
       "      <td>179</td>\n",
       "      <td>157</td>\n",
       "      <td>115</td>\n",
       "      <td>179</td>\n",
       "      <td>157</td>\n",
       "      <td>115</td>\n",
       "    </tr>\n",
       "    <tr>\n",
       "      <th>399</th>\n",
       "      <td>132</td>\n",
       "      <td>118</td>\n",
       "      <td>99</td>\n",
       "      <td>174</td>\n",
       "      <td>162</td>\n",
       "      <td>128</td>\n",
       "      <td>179</td>\n",
       "      <td>158</td>\n",
       "      <td>137</td>\n",
       "      <td>179</td>\n",
       "      <td>...</td>\n",
       "      <td>97</td>\n",
       "      <td>36</td>\n",
       "      <td>56</td>\n",
       "      <td>57</td>\n",
       "      <td>77</td>\n",
       "      <td>109</td>\n",
       "      <td>104</td>\n",
       "      <td>76</td>\n",
       "      <td>111</td>\n",
       "      <td>106</td>\n",
       "    </tr>\n",
       "  </tbody>\n",
       "</table>\n",
       "<p>400 rows × 3072 columns</p>\n",
       "</div>"
      ],
      "text/plain": [
       "     0     1     2     3     4     5     6     7     8     9     ...  3062  \\\n",
       "0     141   142   146   142   143   147   144   145   147   138  ...    16   \n",
       "1     254   254   251   248   245   240   247   238   229   163  ...    56   \n",
       "2      98   126   143   105   134   155   106   137   160   106  ...   216   \n",
       "3     195   175   164   193   173   162   195   175   164   195  ...     9   \n",
       "4     250   173   110   250   171   112   250   170   109   197  ...   118   \n",
       "..    ...   ...   ...   ...   ...   ...   ...   ...   ...   ...  ...   ...   \n",
       "395    64    91   121   130   125   131   134   128   124   100  ...   171   \n",
       "396    47    53    28    48    44    23    57    57    40    59  ...    83   \n",
       "397   178   184   193   146   162   165   153   163   167   185  ...   136   \n",
       "398   178   156   115   176   155   117   183   159   115   188  ...   115   \n",
       "399   132   118    99   174   162   128   179   158   137   179  ...    97   \n",
       "\n",
       "     3063  3064  3065  3066  3067  3068  3069  3070  3071  \n",
       "0      15    13    14    17    15    16    15    13    13  \n",
       "1      74    69    70    86    78    78    99    89    89  \n",
       "2     116   155   191    44    69    93    41    58    73  \n",
       "3       0     1    10    83    85    95   136   145   155  \n",
       "4     170   180   186   170   179   188   165   174   183  \n",
       "..    ...   ...   ...   ...   ...   ...   ...   ...   ...  \n",
       "395   131   153   178   130   153   176   134   158   179  \n",
       "396    73    91    90    67    88    86    60    83    79  \n",
       "397    96   108   108   103   111   115   104   115   113  \n",
       "398   182   162   115   179   157   115   179   157   115  \n",
       "399    36    56    57    77   109   104    76   111   106  \n",
       "\n",
       "[400 rows x 3072 columns]"
      ]
     },
     "execution_count": 14,
     "metadata": {},
     "output_type": "execute_result"
    }
   ],
   "source": [
    "X_val"
   ]
  },
  {
   "cell_type": "code",
   "execution_count": 15,
   "id": "a7dcb63b",
   "metadata": {},
   "outputs": [
    {
     "data": {
      "text/plain": [
       "0      0\n",
       "1      0\n",
       "2      0\n",
       "3      0\n",
       "4      0\n",
       "      ..\n",
       "395    0\n",
       "396    0\n",
       "397    0\n",
       "398    0\n",
       "399    0\n",
       "Name: 3072, Length: 400, dtype: int64"
      ]
     },
     "execution_count": 15,
     "metadata": {},
     "output_type": "execute_result"
    }
   ],
   "source": [
    "y_val"
   ]
  },
  {
   "cell_type": "markdown",
   "id": "26b7c066",
   "metadata": {},
   "source": [
    "# Decision Tree Implementation - Gini Index"
   ]
  },
  {
   "cell_type": "code",
   "execution_count": 17,
   "id": "71a61248",
   "metadata": {},
   "outputs": [],
   "source": [
    "class Node:\n",
    "    def __init__(self, feature=None, threshold=None, left=None, right=None, value=None):\n",
    "        #For splitting conditions\n",
    "        self.feature = feature\n",
    "        self.threshold = threshold\n",
    "        #For non-leaf node, describe their child node\n",
    "        self.left = left\n",
    "        self.right = right\n",
    "        #For a leaf node - \n",
    "        self.value = value\n",
    "        \n",
    "class DecisionTree_gini:\n",
    "    def __init__(self, max_depth=10, min_samples_split=7):\n",
    "        self.max_depth = max_depth\n",
    "        self.min_samples_split = min_samples_split\n",
    "        \n",
    "    #Fit function essentially needs to construct a tree. \n",
    "    def fit(self, X, y):\n",
    "        self.n_classes_ = len(np.unique(y))\n",
    "        self.tree_ = self._grow_tree(X, y)\n",
    "    \n",
    "    #Returns the best feature and best threshold (X1 < t) or (X1 >= t)\n",
    "    def _best_split(self, X, y):\n",
    "        #No. of samples \n",
    "        m = y.size\n",
    "        #No splitting reqd. if only 1 (or less) node\n",
    "        if m <= 1 or m < self.min_samples_split:\n",
    "            return None, None\n",
    "        \n",
    "        #num_parent[c] contains the number of samples in class c\n",
    "        num_parent = [np.sum(y == c) for c in range(self.n_classes_)]\n",
    "        #gini index has to be minimised\n",
    "        best_gini = float('inf')\n",
    "        best_feature, best_threshold = None, None\n",
    "        \n",
    "        #Iterate over each feature of X\n",
    "        for feature in range(X.shape[1]):\n",
    "            #Sort in ascending order and unpack in two lists\n",
    "            thresholds, classes = zip(*sorted(zip(X.iloc[:, feature], y)))\n",
    "            #Creating a list of two elements which will be updates (no. of 0s, no. of 1s)\n",
    "            num_left = [0] * self.n_classes_\n",
    "            #initially, all the samples are on the right side of the split\n",
    "            num_right = num_parent.copy()\n",
    "            \n",
    "            #We iterate over all the possible splits, calculate gini index, and then decide. No. of splits = no. of samples\n",
    "            for i in range(1, m):\n",
    "                #classes[] has all the corresponding labels. We are adding the top element to the left node\n",
    "                #And we are subtracting that top element from the right one\n",
    "                c = classes[i - 1]\n",
    "                num_left[c] += 1\n",
    "                num_right[c] -= 1\n",
    "                gini_left = 1.0 - sum((num_left[x] / i) ** 2 for x in range(self.n_classes_))\n",
    "                gini_right = 1.0 - sum((num_right[x] / (m - i)) ** 2 for x in range(self.n_classes_))\n",
    "                gini = (i * gini_left + (m - i) * gini_right) / m\n",
    "                \n",
    "                #If current threshold value is the same as the previous one, we dont do anything and move on to the next threshold value\n",
    "                if thresholds[i] == thresholds[i - 1]:\n",
    "                    continue\n",
    "                \n",
    "                \n",
    "                if gini < best_gini:\n",
    "                    best_gini = gini\n",
    "                    best_feature = feature\n",
    "                    best_threshold = (thresholds[i] + thresholds[i - 1]) / 2\n",
    "        #Suppose we iterate over all features, and still best_gini doesnt change        \n",
    "        if best_gini == float('inf'):\n",
    "            return None, None\n",
    "        \n",
    "        return best_feature, best_threshold\n",
    "    \n",
    "    #Recursively builds the decision tree based on the split returned by best split\n",
    "    def _grow_tree(self, X, y, depth=0):\n",
    "        #contains the number of samples that belong to each class in the current node. \n",
    "        num_samples_per_class = [np.sum(y == i) for i in range(self.n_classes_)]\n",
    "        #predicted_class is the class that is most prevalent in the current node, \n",
    "        predicted_class = np.argmax(num_samples_per_class)\n",
    "        node = Node(value=predicted_class)\n",
    "        \n",
    "        if depth < self.max_depth:\n",
    "            #Tree has scope to grow more\n",
    "            feature, threshold = self._best_split(X, y)\n",
    "            if feature is not None:\n",
    "                #X[:, feature] < threshold generates a boolean array where \n",
    "                #the value is True if the value of that feature in that sample is less than the threshold, \n",
    "                #and False otherwise. The resulting indices_left array contains True values for the samples that \n",
    "                #belong to the left child, and False values for the samples that belong to the right child.\n",
    "                indices_left = X.iloc[:, feature] < threshold\n",
    "                X_left, y_left = X[indices_left], y[indices_left]\n",
    "                X_right, y_right = X[~indices_left], y[~indices_left]\n",
    "                \n",
    "                node = Node(feature=feature, threshold=threshold)\n",
    "                node.left = self._grow_tree(X_left, y_left, depth + 1)\n",
    "                node.right = self._grow_tree(X_right, y_right, depth + 1)\n",
    "                \n",
    "        return node\n",
    "    def predict(self, X):\n",
    "        X = np.array(X)\n",
    "        y_pred = []\n",
    "        for i in range(X.shape[0]):\n",
    "            y_pred.append(self._predict(X[i]))\n",
    "        return y_pred\n",
    "    def _predict(self, inputs):\n",
    "        node = self.tree_\n",
    "        while node.left or node.right:\n",
    "            if inputs[node.feature] < node.threshold:\n",
    "                node = node.left\n",
    "            else:\n",
    "                node = node.right\n",
    "        return node.value"
   ]
  },
  {
   "cell_type": "markdown",
   "id": "9b7bdedf",
   "metadata": {},
   "source": [
    "# Decision Tree Implementation - Information Gain "
   ]
  },
  {
   "cell_type": "code",
   "execution_count": 18,
   "id": "c6d6275f",
   "metadata": {},
   "outputs": [],
   "source": [
    "class Node:\n",
    "    def __init__(self, feature=None, threshold=None, left=None, right=None, value=None):\n",
    "        #For splitting conditions\n",
    "        self.feature = feature\n",
    "        self.threshold = threshold\n",
    "        #For non-leaf node, describe their child node\n",
    "        self.left = left\n",
    "        self.right = right\n",
    "        #For a leaf node - \n",
    "        self.value = value\n",
    "        \n",
    "class DecisionTree_info:\n",
    "    def __init__(self, max_depth=10, min_samples_split=7):\n",
    "        self.max_depth = max_depth\n",
    "        self.min_samples_split = min_samples_split\n",
    "        \n",
    "    #Fit function essentially needs to construct a tree. \n",
    "    def fit(self, X, y):\n",
    "        self.n_classes_ = len(np.unique(y))\n",
    "        self.tree_ = self._grow_tree(X, y)\n",
    "    def _best_split(self, X, y):\n",
    "        #No. of samples \n",
    "        m = y.size\n",
    "        #No splitting reqd. if only 1 (or less) node\n",
    "        if m <= 1:\n",
    "            return None, None\n",
    "        if m <= 1 or m < self.min_samples_split:\n",
    "            return None, None\n",
    "        #num_parent[c] contains the number of samples in class c\n",
    "        num_parent = [np.sum(y == c) for c in range(self.n_classes_)]\n",
    "        #information gain has to be maximized\n",
    "        best_gain = -1.0\n",
    "        best_feature, best_threshold = None, None\n",
    "        \n",
    "        #entropy of parent node\n",
    "        entropy_parent = sum(-(num_parent[i]/m)*np.log2(num_parent[i]/m) if num_parent[i] != 0 else 0 for i in range(self.n_classes_))\n",
    "        \n",
    "        #Iterate over each feature of X\n",
    "        for feature in range(X.shape[1]):\n",
    "            #Sort in ascending order and unpack in two lists\n",
    "            thresholds, classes = zip(*sorted(zip(X.iloc[:, feature], y)))\n",
    "            #Creating a list of two elements which will be updates (no. of 0s, no. of 1s)\n",
    "            num_left = [0] * self.n_classes_\n",
    "            #initially, all the samples are on the right side of the split\n",
    "            num_right = num_parent.copy()\n",
    "            \n",
    "            #We iterate over all the possible splits, calculate information gain, and then decide. No. of splits = no. of samples\n",
    "            for i in range(1, m):\n",
    "                #classes[] has all the corresponding labels. We are adding the top element to the left node\n",
    "                #And we are subtracting that top element from the right one\n",
    "                c = classes[i - 1]\n",
    "                num_left[c] += 1\n",
    "                num_right[c] -= 1\n",
    "                entropy_left = sum(-(num_left[x]/i)*np.log2(num_left[x]/i) if num_left[x] != 0 else 0 for x in range(self.n_classes_))\n",
    "                entropy_right = sum(-(num_right[x]/(m-i))*np.log2(num_right[x]/(m-i)) if num_right[x] != 0 else 0 for x in range(self.n_classes_))\n",
    "                entropy = (i * entropy_left + (m - i) * entropy_right) / m\n",
    "                gain = entropy_parent - entropy\n",
    "                \n",
    "                #If current threshold value is the same as the previous one, we dont do anything and move on to the next threshold value\n",
    "                if thresholds[i] == thresholds[i - 1]:\n",
    "                    continue\n",
    "                \n",
    "                if gain > best_gain:\n",
    "                    best_gain = gain\n",
    "                    best_feature = feature\n",
    "                    best_threshold = (thresholds[i] + thresholds[i - 1]) / 2\n",
    "                    \n",
    "        #Suppose we iterate over all features, and still best_gain doesnt change\n",
    "        if best_gain == -1.0:\n",
    "            return None, None\n",
    "        \n",
    "        return best_feature, best_threshold\n",
    "    \n",
    "    #Recursively builds the decision tree based on the split returned by best split\n",
    "    def _grow_tree(self, X, y, depth=0):\n",
    "        #contains the number of samples that belong to each class in the current node.\n",
    "        num_samples_per_class = [np.sum(y == i) for i in range(self.n_classes_)]\n",
    "        #predicted_class is the class that is most prevalent in the current node, \n",
    "        predicted_class = np.argmax(num_samples_per_class)\n",
    "        node = Node(value=predicted_class)\n",
    "        \n",
    "        if depth < self.max_depth:\n",
    "            #Tree has scope to grow more\n",
    "            feature, threshold = self._best_split(X, y)\n",
    "            if feature is not None:\n",
    "                #X[:, feature] < threshold generates a boolean array where \n",
    "                #the value is True if the value of that feature in that sample is less than the threshold, \n",
    "                #and False otherwise. The resulting indices_left array contains True values for the samples that \n",
    "                #belong to the left child, and False values for the samples that belong to the right child.\n",
    "                \n",
    "                \"\"\"X[~indices_left]\" selects the rows of the NumPy array or \n",
    "                Pandas DataFrame X for which the corresponding boolean value \n",
    "                in the boolean array \"indices_left\" is False.\"\"\"\n",
    "                \n",
    "                indices_left = X.iloc[:, feature] < threshold\n",
    "                X_left, y_left = X[indices_left], y[indices_left]\n",
    "                X_right, y_right = X[~indices_left], y[~indices_left]\n",
    "                \n",
    "                node = Node(feature=feature, threshold=threshold)\n",
    "                node.left = self._grow_tree(X_left, y_left, depth + 1)\n",
    "                node.right = self._grow_tree(X_right, y_right, depth + 1)\n",
    "                \n",
    "        return node\n",
    "    def predict(self, X):\n",
    "        X = np.array(X)\n",
    "        y_pred = []\n",
    "        for i in range(X.shape[0]):\n",
    "            y_pred.append(self._predict(X[i]))\n",
    "        return y_pred\n",
    "    def _predict(self, inputs):\n",
    "        node = self.tree_\n",
    "        while node.left or node.right:\n",
    "            if inputs[node.feature] < node.threshold:\n",
    "                node = node.left\n",
    "            else:\n",
    "                node = node.right\n",
    "        return node.value"
   ]
  },
  {
   "cell_type": "code",
   "execution_count": 19,
   "id": "ba823501",
   "metadata": {},
   "outputs": [],
   "source": [
    "t1 = DecisionTree_gini()"
   ]
  },
  {
   "cell_type": "code",
   "execution_count": 20,
   "id": "6e978976",
   "metadata": {},
   "outputs": [],
   "source": [
    "start_time_gini = time.time()\n",
    "t1.fit(X, y)\n",
    "train_time_gini = time.time() - start_time_gini"
   ]
  },
  {
   "cell_type": "code",
   "execution_count": 21,
   "id": "551fd921",
   "metadata": {},
   "outputs": [],
   "source": [
    "t2 = DecisionTree_info()\n",
    "start_time_info = time.time()\n",
    "t2.fit(X, y)\n",
    "train_time_info = time.time() - start_time_info"
   ]
  },
  {
   "cell_type": "code",
   "execution_count": 22,
   "id": "a7046d05",
   "metadata": {},
   "outputs": [
    {
     "data": {
      "text/plain": [
       "505.900178194046"
      ]
     },
     "execution_count": 22,
     "metadata": {},
     "output_type": "execute_result"
    }
   ],
   "source": [
    "train_time_gini"
   ]
  },
  {
   "cell_type": "code",
   "execution_count": 23,
   "id": "74207a9a",
   "metadata": {},
   "outputs": [
    {
     "data": {
      "text/plain": [
       "783.336754322052"
      ]
     },
     "execution_count": 23,
     "metadata": {},
     "output_type": "execute_result"
    }
   ],
   "source": [
    "train_time_info"
   ]
  },
  {
   "cell_type": "code",
   "execution_count": 24,
   "id": "d717950d",
   "metadata": {
    "scrolled": true
   },
   "outputs": [],
   "source": [
    "y_guess_1 = t1.predict(X_val)"
   ]
  },
  {
   "cell_type": "code",
   "execution_count": 25,
   "id": "66972225",
   "metadata": {
    "scrolled": true
   },
   "outputs": [],
   "source": [
    "y_guess_2 = t2.predict(X_val)"
   ]
  },
  {
   "cell_type": "code",
   "execution_count": 26,
   "id": "edcd308c",
   "metadata": {},
   "outputs": [
    {
     "name": "stdout",
     "output_type": "stream",
     "text": [
      "Accuracy of decision tree using gini index 92.75\n"
     ]
    }
   ],
   "source": [
    "error = 0\n",
    "for i in range(len(y_guess_1)):\n",
    "    if(y_guess_1[i]!=y_val[i]):\n",
    "        error = error + 1\n",
    "accuracy = (1 - (error/len(y_guess_1)))*100\n",
    "print(\"Accuracy of decision tree using gini index\", accuracy)"
   ]
  },
  {
   "cell_type": "code",
   "execution_count": 27,
   "id": "ae710141",
   "metadata": {},
   "outputs": [
    {
     "name": "stdout",
     "output_type": "stream",
     "text": [
      "Accuracy of decision tree using information gain 94.0\n"
     ]
    }
   ],
   "source": [
    "error = 0\n",
    "for i in range(len(y_guess_2)):\n",
    "    if(y_guess_2[i]!=y_val[i]):\n",
    "        error = error + 1\n",
    "accuracy = (1 - (error/len(y_guess_2)))*100\n",
    "print(\"Accuracy of decision tree using information gain\", accuracy)"
   ]
  },
  {
   "cell_type": "code",
   "execution_count": 28,
   "id": "a8f56db8",
   "metadata": {},
   "outputs": [
    {
     "name": "stdout",
     "output_type": "stream",
     "text": [
      "precision -  88.17204301075269\n",
      "recall value -  82.0\n"
     ]
    }
   ],
   "source": [
    "predicted_positives = 0\n",
    "true_positives = 0\n",
    "false_negative = 0\n",
    "for i in range(len(y_guess_1)):\n",
    "    if((y_val[i] == 1) & (y_guess_1[i] == 1)):\n",
    "            true_positives = true_positives + 1\n",
    "    if((y_val[i] == 1) & (y_guess_1[i] == 0)):\n",
    "            false_negative = false_negative + 1            \n",
    "    if(y_guess_1[i] == 1):   \n",
    "         predicted_positives = predicted_positives + 1\n",
    "rv = true_positives/(true_positives+false_negative)\n",
    "prec = true_positives / predicted_positives\n",
    "print(\"precision - \", prec*100)\n",
    "print(\"recall value - \", rv*100)"
   ]
  },
  {
   "cell_type": "code",
   "execution_count": 29,
   "id": "2f5114bf",
   "metadata": {},
   "outputs": [
    {
     "name": "stdout",
     "output_type": "stream",
     "text": [
      "precision -  85.18518518518519\n",
      "recall value -  92.0\n"
     ]
    }
   ],
   "source": [
    "predicted_positives = 0\n",
    "true_positives = 0\n",
    "false_negative = 0\n",
    "for i in range(len(y_guess_2)):\n",
    "    if((y_val[i] == 1) & (y_guess_2[i] == 1)):\n",
    "            true_positives = true_positives + 1\n",
    "    if((y_val[i] == 1) & (y_guess_2[i] == 0)):\n",
    "            false_negative = false_negative + 1            \n",
    "    if(y_guess_2[i] == 1):   \n",
    "         predicted_positives = predicted_positives + 1\n",
    "rv = true_positives/(true_positives+false_negative)\n",
    "prec = true_positives / predicted_positives\n",
    "print(\"precision - \", prec*100)\n",
    "print(\"recall value - \", rv*100)"
   ]
  },
  {
   "cell_type": "code",
   "execution_count": 30,
   "id": "265ef081",
   "metadata": {},
   "outputs": [
    {
     "data": {
      "image/png": "[encoded data removed]",
      "text/plain": [
       "<Figure size 432x288 with 2 Axes>"
      ]
     },
     "metadata": {
      "needs_background": "light"
     },
     "output_type": "display_data"
    }
   ],
   "source": [
    "Accuracy = metrics.accuracy_score(y_val, y_guess_1)\n",
    "confusion_matrix = metrics.confusion_matrix(y_val, y_guess_1)\n",
    "cmap = plt.get_cmap('Spectral')\n",
    "plt.imshow(confusion_matrix, interpolation='nearest', cmap=cmap)\n",
    "plt.title('Confusion Matrix')\n",
    "plt.colorbar()\n",
    "tick_marks = [0,1]\n",
    "plt.xticks(tick_marks, tick_marks)\n",
    "plt.yticks(tick_marks, tick_marks)\n",
    "plt.ylabel('True label')\n",
    "plt.xlabel('Predicted label')\n",
    "for i in range(len(confusion_matrix)):\n",
    "    for j in range(len(confusion_matrix[0])):\n",
    "        plt.text(j,i,format(confusion_matrix[i][j]),horizontalalignment='center',color='white' if confusion_matrix[i][j]>confusion_matrix.max()/2 else 'black')\n",
    "plt.show()"
   ]
  },
  {
   "cell_type": "markdown",
   "id": "876eb358",
   "metadata": {},
   "source": [
    "# Decision Tree Scikit Learn"
   ]
  },
  {
   "cell_type": "code",
   "execution_count": 32,
   "id": "71c03743",
   "metadata": {},
   "outputs": [],
   "source": [
    "dtc = DecisionTreeClassifier(max_depth=10, min_samples_split=7, criterion='gini')"
   ]
  },
  {
   "cell_type": "code",
   "execution_count": 33,
   "id": "57ea35d7",
   "metadata": {},
   "outputs": [],
   "source": [
    "start_time = time.time()\n",
    "dtc.fit(X, y)\n",
    "train_time = time.time() - start_time"
   ]
  },
  {
   "cell_type": "code",
   "execution_count": 34,
   "id": "ca4cfb2d",
   "metadata": {},
   "outputs": [
    {
     "data": {
      "text/plain": [
       "8.07505488395691"
      ]
     },
     "execution_count": 34,
     "metadata": {},
     "output_type": "execute_result"
    }
   ],
   "source": [
    "train_time"
   ]
  },
  {
   "cell_type": "code",
   "execution_count": 35,
   "id": "6d72db61",
   "metadata": {},
   "outputs": [],
   "source": [
    "val_preds = dtc.predict(X_val)"
   ]
  },
  {
   "cell_type": "code",
   "execution_count": 36,
   "id": "949ea7df",
   "metadata": {},
   "outputs": [],
   "source": [
    "val_acc = accuracy_score(y_val, val_preds)\n",
    "val_prec = precision_score(y_val, val_preds, average='weighted')\n",
    "val_rec = recall_score(y_val, val_preds, average='weighted')"
   ]
  },
  {
   "cell_type": "code",
   "execution_count": 37,
   "id": "e8147248",
   "metadata": {},
   "outputs": [
    {
     "name": "stdout",
     "output_type": "stream",
     "text": [
      "Validation Metrics:\n",
      "Accuracy: 0.9250\n",
      "Precision: 0.9238\n",
      "Recall: 0.9250\n"
     ]
    }
   ],
   "source": [
    "print(\"Validation Metrics:\")\n",
    "print(f\"Accuracy: {val_acc:.4f}\")\n",
    "print(f\"Precision: {val_prec:.4f}\")\n",
    "print(f\"Recall: {val_rec:.4f}\")"
   ]
  },
  {
   "cell_type": "code",
   "execution_count": 38,
   "id": "fb7e55dc",
   "metadata": {
    "scrolled": true
   },
   "outputs": [
    {
     "data": {
      "image/png": "[encoded data removed]",
      "text/plain": [
       "<Figure size 432x288 with 2 Axes>"
      ]
     },
     "metadata": {
      "needs_background": "light"
     },
     "output_type": "display_data"
    }
   ],
   "source": [
    "Accuracy = metrics.accuracy_score(y_val, val_preds)\n",
    "confusion_matrix = metrics.confusion_matrix(y_val, val_preds)\n",
    "cmap = plt.get_cmap('Spectral')\n",
    "plt.imshow(confusion_matrix, interpolation='nearest', cmap=cmap)\n",
    "plt.title('Confusion Matrix')\n",
    "plt.colorbar()\n",
    "tick_marks = [0,1]\n",
    "plt.xticks(tick_marks, tick_marks)\n",
    "plt.yticks(tick_marks, tick_marks)\n",
    "plt.ylabel('True label')\n",
    "plt.xlabel('Predicted label')\n",
    "for i in range(len(confusion_matrix)):\n",
    "    for j in range(len(confusion_matrix[0])):\n",
    "        plt.text(j,i,format(confusion_matrix[i][j]),horizontalalignment='center',color='white' if confusion_matrix[i][j]>confusion_matrix.max()/2 else 'black')\n",
    "plt.show()"
   ]
  },
  {
   "cell_type": "code",
   "execution_count": 40,
   "id": "bb67afb0",
   "metadata": {},
   "outputs": [
    {
     "data": {
      "image/png": "[encoded data removed]",
      "text/plain": [
       "<Figure size 432x288 with 2 Axes>"
      ]
     },
     "metadata": {
      "needs_background": "light"
     },
     "output_type": "display_data"
    }
   ],
   "source": [
    "y_preds = dtc.predict(X)\n",
    "Accuracy = metrics.accuracy_score(y, y_preds)\n",
    "confusion_matrix = metrics.confusion_matrix(y, y_preds)\n",
    "cmap = plt.get_cmap('Spectral')\n",
    "plt.imshow(confusion_matrix, interpolation='nearest', cmap=cmap)\n",
    "plt.title('Confusion Matrix')\n",
    "plt.colorbar()\n",
    "tick_marks = [0,1]\n",
    "plt.xticks(tick_marks, tick_marks)\n",
    "plt.yticks(tick_marks, tick_marks)\n",
    "plt.ylabel('True label')\n",
    "plt.xlabel('Predicted label')\n",
    "for i in range(len(confusion_matrix)):\n",
    "    for j in range(len(confusion_matrix[0])):\n",
    "        plt.text(j,i,format(confusion_matrix[i][j]),horizontalalignment='center',color='white' if confusion_matrix[i][j]>confusion_matrix.max()/2 else 'black')\n",
    "plt.show()"
   ]
  },
  {
   "cell_type": "code",
   "execution_count": 41,
   "id": "9ac49f43",
   "metadata": {},
   "outputs": [],
   "source": [
    "dtc2 = DecisionTreeClassifier(max_depth=10, min_samples_split=7, criterion='entropy')"
   ]
  },
  {
   "cell_type": "code",
   "execution_count": 42,
   "id": "917af760",
   "metadata": {},
   "outputs": [],
   "source": [
    "start_time = time.time()\n",
    "dtc2.fit(X, y)\n",
    "train_time = time.time() - start_time"
   ]
  },
  {
   "cell_type": "code",
   "execution_count": 43,
   "id": "008a8f69",
   "metadata": {},
   "outputs": [
    {
     "data": {
      "text/plain": [
       "5.662677049636841"
      ]
     },
     "execution_count": 43,
     "metadata": {},
     "output_type": "execute_result"
    }
   ],
   "source": [
    "train_time"
   ]
  },
  {
   "cell_type": "code",
   "execution_count": 47,
   "id": "fe2ac0ce",
   "metadata": {},
   "outputs": [],
   "source": [
    "val_preds = dtc2.predict(X_val)"
   ]
  },
  {
   "cell_type": "code",
   "execution_count": 48,
   "id": "7882f754",
   "metadata": {},
   "outputs": [],
   "source": [
    "val_acc = accuracy_score(y_val, val_preds)\n",
    "val_prec = precision_score(y_val, val_preds, average='weighted')\n",
    "val_rec = recall_score(y_val, val_preds, average='weighted')"
   ]
  },
  {
   "cell_type": "code",
   "execution_count": 49,
   "id": "c7d490c1",
   "metadata": {},
   "outputs": [
    {
     "name": "stdout",
     "output_type": "stream",
     "text": [
      "Validation Metrics:\n",
      "Accuracy: 0.9475\n",
      "Precision: 0.9487\n",
      "Recall: 0.9475\n"
     ]
    }
   ],
   "source": [
    "print(\"Validation Metrics:\")\n",
    "print(f\"Accuracy: {val_acc:.4f}\")\n",
    "print(f\"Precision: {val_prec:.4f}\")\n",
    "print(f\"Recall: {val_rec:.4f}\")"
   ]
  },
  {
   "cell_type": "code",
   "execution_count": 50,
   "id": "dd191f14",
   "metadata": {
    "scrolled": true
   },
   "outputs": [
    {
     "data": {
      "image/png": "[encoded data removed]",
      "text/plain": [
       "<Figure size 432x288 with 2 Axes>"
      ]
     },
     "metadata": {
      "needs_background": "light"
     },
     "output_type": "display_data"
    }
   ],
   "source": [
    "Accuracy = metrics.accuracy_score(y_val, val_preds)\n",
    "confusion_matrix = metrics.confusion_matrix(y_val, val_preds)\n",
    "cmap = plt.get_cmap('Spectral')\n",
    "plt.imshow(confusion_matrix, interpolation='nearest', cmap=cmap)\n",
    "plt.title('Confusion Matrix')\n",
    "plt.colorbar()\n",
    "tick_marks = [0,1]\n",
    "plt.xticks(tick_marks, tick_marks)\n",
    "plt.yticks(tick_marks, tick_marks)\n",
    "plt.ylabel('True label')\n",
    "plt.xlabel('Predicted label')\n",
    "for i in range(len(confusion_matrix)):\n",
    "    for j in range(len(confusion_matrix[0])):\n",
    "        plt.text(j,i,format(confusion_matrix[i][j]),horizontalalignment='center',color='white' if confusion_matrix[i][j]>confusion_matrix.max()/2 else 'black')\n",
    "plt.show()"
   ]
  },
  {
   "cell_type": "code",
   "execution_count": 51,
   "id": "f60a8762",
   "metadata": {},
   "outputs": [
    {
     "data": {
      "image/png": "[encoded data removed]",
      "text/plain": [
       "<Figure size 432x288 with 2 Axes>"
      ]
     },
     "metadata": {
      "needs_background": "light"
     },
     "output_type": "display_data"
    }
   ],
   "source": [
    "y_preds = dtc2.predict(X)\n",
    "Accuracy = metrics.accuracy_score(y, y_preds)\n",
    "confusion_matrix = metrics.confusion_matrix(y, y_preds)\n",
    "cmap = plt.get_cmap('Spectral')\n",
    "plt.imshow(confusion_matrix, interpolation='nearest', cmap=cmap)\n",
    "plt.title('Confusion Matrix')\n",
    "plt.colorbar()\n",
    "tick_marks = [0,1]\n",
    "plt.xticks(tick_marks, tick_marks)\n",
    "plt.yticks(tick_marks, tick_marks)\n",
    "plt.ylabel('True label')\n",
    "plt.xlabel('Predicted label')\n",
    "for i in range(len(confusion_matrix)):\n",
    "    for j in range(len(confusion_matrix[0])):\n",
    "        plt.text(j,i,format(confusion_matrix[i][j]),horizontalalignment='center',color='white' if confusion_matrix[i][j]>confusion_matrix.max()/2 else 'black')\n",
    "plt.show()"
   ]
  },
  {
   "cell_type": "markdown",
   "id": "bf37901e",
   "metadata": {},
   "source": [
    "# Decision Tree Grid-Search and Visualisation"
   ]
  },
  {
   "cell_type": "code",
   "execution_count": 52,
   "id": "237e1d83",
   "metadata": {},
   "outputs": [],
   "source": [
    "selector = SelectKBest(f_classif, k=10)\n",
    "X_new = selector.fit_transform(X, y)"
   ]
  },
  {
   "cell_type": "code",
   "execution_count": 53,
   "id": "4934a94c",
   "metadata": {},
   "outputs": [],
   "source": [
    "X_new_df = pd.DataFrame(X_new, columns=X.columns[selector.get_support()])"
   ]
  },
  {
   "cell_type": "code",
   "execution_count": 54,
   "id": "47eb995d",
   "metadata": {},
   "outputs": [
    {
     "data": {
      "text/html": [
       "<div>\n",
       "<style scoped>\n",
       "    .dataframe tbody tr th:only-of-type {\n",
       "        vertical-align: middle;\n",
       "    }\n",
       "\n",
       "    .dataframe tbody tr th {\n",
       "        vertical-align: top;\n",
       "    }\n",
       "\n",
       "    .dataframe thead th {\n",
       "        text-align: right;\n",
       "    }\n",
       "</style>\n",
       "<table border=\"1\" class=\"dataframe\">\n",
       "  <thead>\n",
       "    <tr style=\"text-align: right;\">\n",
       "      <th></th>\n",
       "      <th>629</th>\n",
       "      <th>716</th>\n",
       "      <th>719</th>\n",
       "      <th>722</th>\n",
       "      <th>725</th>\n",
       "      <th>728</th>\n",
       "      <th>812</th>\n",
       "      <th>815</th>\n",
       "      <th>818</th>\n",
       "      <th>821</th>\n",
       "    </tr>\n",
       "  </thead>\n",
       "  <tbody>\n",
       "    <tr>\n",
       "      <th>0</th>\n",
       "      <td>10</td>\n",
       "      <td>58</td>\n",
       "      <td>29</td>\n",
       "      <td>22</td>\n",
       "      <td>12</td>\n",
       "      <td>13</td>\n",
       "      <td>43</td>\n",
       "      <td>32</td>\n",
       "      <td>11</td>\n",
       "      <td>7</td>\n",
       "    </tr>\n",
       "    <tr>\n",
       "      <th>1</th>\n",
       "      <td>75</td>\n",
       "      <td>226</td>\n",
       "      <td>241</td>\n",
       "      <td>206</td>\n",
       "      <td>50</td>\n",
       "      <td>110</td>\n",
       "      <td>225</td>\n",
       "      <td>233</td>\n",
       "      <td>236</td>\n",
       "      <td>154</td>\n",
       "    </tr>\n",
       "    <tr>\n",
       "      <th>2</th>\n",
       "      <td>154</td>\n",
       "      <td>75</td>\n",
       "      <td>56</td>\n",
       "      <td>67</td>\n",
       "      <td>177</td>\n",
       "      <td>206</td>\n",
       "      <td>188</td>\n",
       "      <td>196</td>\n",
       "      <td>192</td>\n",
       "      <td>182</td>\n",
       "    </tr>\n",
       "    <tr>\n",
       "      <th>3</th>\n",
       "      <td>79</td>\n",
       "      <td>145</td>\n",
       "      <td>123</td>\n",
       "      <td>102</td>\n",
       "      <td>88</td>\n",
       "      <td>76</td>\n",
       "      <td>65</td>\n",
       "      <td>56</td>\n",
       "      <td>58</td>\n",
       "      <td>86</td>\n",
       "    </tr>\n",
       "    <tr>\n",
       "      <th>4</th>\n",
       "      <td>9</td>\n",
       "      <td>49</td>\n",
       "      <td>12</td>\n",
       "      <td>48</td>\n",
       "      <td>7</td>\n",
       "      <td>6</td>\n",
       "      <td>49</td>\n",
       "      <td>8</td>\n",
       "      <td>39</td>\n",
       "      <td>19</td>\n",
       "    </tr>\n",
       "    <tr>\n",
       "      <th>...</th>\n",
       "      <td>...</td>\n",
       "      <td>...</td>\n",
       "      <td>...</td>\n",
       "      <td>...</td>\n",
       "      <td>...</td>\n",
       "      <td>...</td>\n",
       "      <td>...</td>\n",
       "      <td>...</td>\n",
       "      <td>...</td>\n",
       "      <td>...</td>\n",
       "    </tr>\n",
       "    <tr>\n",
       "      <th>1995</th>\n",
       "      <td>87</td>\n",
       "      <td>82</td>\n",
       "      <td>88</td>\n",
       "      <td>84</td>\n",
       "      <td>87</td>\n",
       "      <td>85</td>\n",
       "      <td>92</td>\n",
       "      <td>87</td>\n",
       "      <td>84</td>\n",
       "      <td>85</td>\n",
       "    </tr>\n",
       "    <tr>\n",
       "      <th>1996</th>\n",
       "      <td>51</td>\n",
       "      <td>51</td>\n",
       "      <td>51</td>\n",
       "      <td>52</td>\n",
       "      <td>52</td>\n",
       "      <td>52</td>\n",
       "      <td>52</td>\n",
       "      <td>51</td>\n",
       "      <td>52</td>\n",
       "      <td>53</td>\n",
       "    </tr>\n",
       "    <tr>\n",
       "      <th>1997</th>\n",
       "      <td>106</td>\n",
       "      <td>110</td>\n",
       "      <td>109</td>\n",
       "      <td>106</td>\n",
       "      <td>108</td>\n",
       "      <td>109</td>\n",
       "      <td>114</td>\n",
       "      <td>109</td>\n",
       "      <td>109</td>\n",
       "      <td>108</td>\n",
       "    </tr>\n",
       "    <tr>\n",
       "      <th>1998</th>\n",
       "      <td>170</td>\n",
       "      <td>153</td>\n",
       "      <td>159</td>\n",
       "      <td>164</td>\n",
       "      <td>170</td>\n",
       "      <td>42</td>\n",
       "      <td>147</td>\n",
       "      <td>154</td>\n",
       "      <td>159</td>\n",
       "      <td>167</td>\n",
       "    </tr>\n",
       "    <tr>\n",
       "      <th>1999</th>\n",
       "      <td>79</td>\n",
       "      <td>80</td>\n",
       "      <td>78</td>\n",
       "      <td>80</td>\n",
       "      <td>79</td>\n",
       "      <td>80</td>\n",
       "      <td>80</td>\n",
       "      <td>82</td>\n",
       "      <td>80</td>\n",
       "      <td>80</td>\n",
       "    </tr>\n",
       "  </tbody>\n",
       "</table>\n",
       "<p>2000 rows × 10 columns</p>\n",
       "</div>"
      ],
      "text/plain": [
       "      629  716  719  722  725  728  812  815  818  821\n",
       "0      10   58   29   22   12   13   43   32   11    7\n",
       "1      75  226  241  206   50  110  225  233  236  154\n",
       "2     154   75   56   67  177  206  188  196  192  182\n",
       "3      79  145  123  102   88   76   65   56   58   86\n",
       "4       9   49   12   48    7    6   49    8   39   19\n",
       "...   ...  ...  ...  ...  ...  ...  ...  ...  ...  ...\n",
       "1995   87   82   88   84   87   85   92   87   84   85\n",
       "1996   51   51   51   52   52   52   52   51   52   53\n",
       "1997  106  110  109  106  108  109  114  109  109  108\n",
       "1998  170  153  159  164  170   42  147  154  159  167\n",
       "1999   79   80   78   80   79   80   80   82   80   80\n",
       "\n",
       "[2000 rows x 10 columns]"
      ]
     },
     "execution_count": 54,
     "metadata": {},
     "output_type": "execute_result"
    }
   ],
   "source": [
    "X_new_df"
   ]
  },
  {
   "cell_type": "code",
   "execution_count": 55,
   "id": "4b0409d0",
   "metadata": {},
   "outputs": [],
   "source": [
    "column_headers = list(X_new_df.columns.values)"
   ]
  },
  {
   "cell_type": "code",
   "execution_count": 56,
   "id": "95e23de5",
   "metadata": {},
   "outputs": [],
   "source": [
    "x_val_new = pd.DataFrame()\n",
    "for i in column_headers: \n",
    "    x_val_new[i] = X_val[i].values"
   ]
  },
  {
   "cell_type": "code",
   "execution_count": 57,
   "id": "3d9a79cb",
   "metadata": {},
   "outputs": [
    {
     "data": {
      "text/html": [
       "<div>\n",
       "<style scoped>\n",
       "    .dataframe tbody tr th:only-of-type {\n",
       "        vertical-align: middle;\n",
       "    }\n",
       "\n",
       "    .dataframe tbody tr th {\n",
       "        vertical-align: top;\n",
       "    }\n",
       "\n",
       "    .dataframe thead th {\n",
       "        text-align: right;\n",
       "    }\n",
       "</style>\n",
       "<table border=\"1\" class=\"dataframe\">\n",
       "  <thead>\n",
       "    <tr style=\"text-align: right;\">\n",
       "      <th></th>\n",
       "      <th>629</th>\n",
       "      <th>716</th>\n",
       "      <th>719</th>\n",
       "      <th>722</th>\n",
       "      <th>725</th>\n",
       "      <th>728</th>\n",
       "      <th>812</th>\n",
       "      <th>815</th>\n",
       "      <th>818</th>\n",
       "      <th>821</th>\n",
       "    </tr>\n",
       "  </thead>\n",
       "  <tbody>\n",
       "    <tr>\n",
       "      <th>0</th>\n",
       "      <td>121</td>\n",
       "      <td>150</td>\n",
       "      <td>88</td>\n",
       "      <td>57</td>\n",
       "      <td>50</td>\n",
       "      <td>98</td>\n",
       "      <td>157</td>\n",
       "      <td>151</td>\n",
       "      <td>233</td>\n",
       "      <td>232</td>\n",
       "    </tr>\n",
       "    <tr>\n",
       "      <th>1</th>\n",
       "      <td>23</td>\n",
       "      <td>184</td>\n",
       "      <td>190</td>\n",
       "      <td>187</td>\n",
       "      <td>180</td>\n",
       "      <td>161</td>\n",
       "      <td>184</td>\n",
       "      <td>188</td>\n",
       "      <td>188</td>\n",
       "      <td>195</td>\n",
       "    </tr>\n",
       "    <tr>\n",
       "      <th>2</th>\n",
       "      <td>77</td>\n",
       "      <td>155</td>\n",
       "      <td>91</td>\n",
       "      <td>120</td>\n",
       "      <td>185</td>\n",
       "      <td>48</td>\n",
       "      <td>222</td>\n",
       "      <td>55</td>\n",
       "      <td>74</td>\n",
       "      <td>133</td>\n",
       "    </tr>\n",
       "    <tr>\n",
       "      <th>3</th>\n",
       "      <td>147</td>\n",
       "      <td>154</td>\n",
       "      <td>159</td>\n",
       "      <td>155</td>\n",
       "      <td>150</td>\n",
       "      <td>148</td>\n",
       "      <td>128</td>\n",
       "      <td>110</td>\n",
       "      <td>103</td>\n",
       "      <td>110</td>\n",
       "    </tr>\n",
       "    <tr>\n",
       "      <th>4</th>\n",
       "      <td>125</td>\n",
       "      <td>35</td>\n",
       "      <td>34</td>\n",
       "      <td>66</td>\n",
       "      <td>52</td>\n",
       "      <td>38</td>\n",
       "      <td>60</td>\n",
       "      <td>66</td>\n",
       "      <td>65</td>\n",
       "      <td>62</td>\n",
       "    </tr>\n",
       "    <tr>\n",
       "      <th>...</th>\n",
       "      <td>...</td>\n",
       "      <td>...</td>\n",
       "      <td>...</td>\n",
       "      <td>...</td>\n",
       "      <td>...</td>\n",
       "      <td>...</td>\n",
       "      <td>...</td>\n",
       "      <td>...</td>\n",
       "      <td>...</td>\n",
       "      <td>...</td>\n",
       "    </tr>\n",
       "    <tr>\n",
       "      <th>395</th>\n",
       "      <td>82</td>\n",
       "      <td>89</td>\n",
       "      <td>96</td>\n",
       "      <td>103</td>\n",
       "      <td>97</td>\n",
       "      <td>93</td>\n",
       "      <td>92</td>\n",
       "      <td>95</td>\n",
       "      <td>104</td>\n",
       "      <td>108</td>\n",
       "    </tr>\n",
       "    <tr>\n",
       "      <th>396</th>\n",
       "      <td>124</td>\n",
       "      <td>114</td>\n",
       "      <td>110</td>\n",
       "      <td>118</td>\n",
       "      <td>118</td>\n",
       "      <td>126</td>\n",
       "      <td>157</td>\n",
       "      <td>153</td>\n",
       "      <td>154</td>\n",
       "      <td>151</td>\n",
       "    </tr>\n",
       "    <tr>\n",
       "      <th>397</th>\n",
       "      <td>196</td>\n",
       "      <td>196</td>\n",
       "      <td>194</td>\n",
       "      <td>193</td>\n",
       "      <td>195</td>\n",
       "      <td>194</td>\n",
       "      <td>195</td>\n",
       "      <td>193</td>\n",
       "      <td>194</td>\n",
       "      <td>193</td>\n",
       "    </tr>\n",
       "    <tr>\n",
       "      <th>398</th>\n",
       "      <td>120</td>\n",
       "      <td>120</td>\n",
       "      <td>118</td>\n",
       "      <td>121</td>\n",
       "      <td>122</td>\n",
       "      <td>120</td>\n",
       "      <td>117</td>\n",
       "      <td>116</td>\n",
       "      <td>119</td>\n",
       "      <td>120</td>\n",
       "    </tr>\n",
       "    <tr>\n",
       "      <th>399</th>\n",
       "      <td>64</td>\n",
       "      <td>60</td>\n",
       "      <td>39</td>\n",
       "      <td>54</td>\n",
       "      <td>53</td>\n",
       "      <td>66</td>\n",
       "      <td>62</td>\n",
       "      <td>54</td>\n",
       "      <td>51</td>\n",
       "      <td>51</td>\n",
       "    </tr>\n",
       "  </tbody>\n",
       "</table>\n",
       "<p>400 rows × 10 columns</p>\n",
       "</div>"
      ],
      "text/plain": [
       "     629  716  719  722  725  728  812  815  818  821\n",
       "0    121  150   88   57   50   98  157  151  233  232\n",
       "1     23  184  190  187  180  161  184  188  188  195\n",
       "2     77  155   91  120  185   48  222   55   74  133\n",
       "3    147  154  159  155  150  148  128  110  103  110\n",
       "4    125   35   34   66   52   38   60   66   65   62\n",
       "..   ...  ...  ...  ...  ...  ...  ...  ...  ...  ...\n",
       "395   82   89   96  103   97   93   92   95  104  108\n",
       "396  124  114  110  118  118  126  157  153  154  151\n",
       "397  196  196  194  193  195  194  195  193  194  193\n",
       "398  120  120  118  121  122  120  117  116  119  120\n",
       "399   64   60   39   54   53   66   62   54   51   51\n",
       "\n",
       "[400 rows x 10 columns]"
      ]
     },
     "execution_count": 57,
     "metadata": {},
     "output_type": "execute_result"
    }
   ],
   "source": [
    "x_val_new"
   ]
  },
  {
   "cell_type": "code",
   "execution_count": 58,
   "id": "94f1dd12",
   "metadata": {},
   "outputs": [
    {
     "data": {
      "text/html": [
       "<style>#sk-container-id-1 {color: black;background-color: white;}#sk-container-id-1 pre{padding: 0;}#sk-container-id-1 div.sk-toggleable {background-color: white;}#sk-container-id-1 label.sk-toggleable__label {cursor: pointer;display: block;width: 100%;margin-bottom: 0;padding: 0.3em;box-sizing: border-box;text-align: center;}#sk-container-id-1 label.sk-toggleable__label-arrow:before {content: \"▸\";float: left;margin-right: 0.25em;color: #696969;}#sk-container-id-1 label.sk-toggleable__label-arrow:hover:before {color: black;}#sk-container-id-1 div.sk-estimator:hover label.sk-toggleable__label-arrow:before {color: black;}#sk-container-id-1 div.sk-toggleable__content {max-height: 0;max-width: 0;overflow: hidden;text-align: left;background-color: #f0f8ff;}#sk-container-id-1 div.sk-toggleable__content pre {margin: 0.2em;color: black;border-radius: 0.25em;background-color: #f0f8ff;}#sk-container-id-1 input.sk-toggleable__control:checked~div.sk-toggleable__content {max-height: 200px;max-width: 100%;overflow: auto;}#sk-container-id-1 input.sk-toggleable__control:checked~label.sk-toggleable__label-arrow:before {content: \"▾\";}#sk-container-id-1 div.sk-estimator input.sk-toggleable__control:checked~label.sk-toggleable__label {background-color: #d4ebff;}#sk-container-id-1 div.sk-label input.sk-toggleable__control:checked~label.sk-toggleable__label {background-color: #d4ebff;}#sk-container-id-1 input.sk-hidden--visually {border: 0;clip: rect(1px 1px 1px 1px);clip: rect(1px, 1px, 1px, 1px);height: 1px;margin: -1px;overflow: hidden;padding: 0;position: absolute;width: 1px;}#sk-container-id-1 div.sk-estimator {font-family: monospace;background-color: #f0f8ff;border: 1px dotted black;border-radius: 0.25em;box-sizing: border-box;margin-bottom: 0.5em;}#sk-container-id-1 div.sk-estimator:hover {background-color: #d4ebff;}#sk-container-id-1 div.sk-parallel-item::after {content: \"\";width: 100%;border-bottom: 1px solid gray;flex-grow: 1;}#sk-container-id-1 div.sk-label:hover label.sk-toggleable__label {background-color: #d4ebff;}#sk-container-id-1 div.sk-serial::before {content: \"\";position: absolute;border-left: 1px solid gray;box-sizing: border-box;top: 0;bottom: 0;left: 50%;z-index: 0;}#sk-container-id-1 div.sk-serial {display: flex;flex-direction: column;align-items: center;background-color: white;padding-right: 0.2em;padding-left: 0.2em;position: relative;}#sk-container-id-1 div.sk-item {position: relative;z-index: 1;}#sk-container-id-1 div.sk-parallel {display: flex;align-items: stretch;justify-content: center;background-color: white;position: relative;}#sk-container-id-1 div.sk-item::before, #sk-container-id-1 div.sk-parallel-item::before {content: \"\";position: absolute;border-left: 1px solid gray;box-sizing: border-box;top: 0;bottom: 0;left: 50%;z-index: -1;}#sk-container-id-1 div.sk-parallel-item {display: flex;flex-direction: column;z-index: 1;position: relative;background-color: white;}#sk-container-id-1 div.sk-parallel-item:first-child::after {align-self: flex-end;width: 50%;}#sk-container-id-1 div.sk-parallel-item:last-child::after {align-self: flex-start;width: 50%;}#sk-container-id-1 div.sk-parallel-item:only-child::after {width: 0;}#sk-container-id-1 div.sk-dashed-wrapped {border: 1px dashed gray;margin: 0 0.4em 0.5em 0.4em;box-sizing: border-box;padding-bottom: 0.4em;background-color: white;}#sk-container-id-1 div.sk-label label {font-family: monospace;font-weight: bold;display: inline-block;line-height: 1.2em;}#sk-container-id-1 div.sk-label-container {text-align: center;}#sk-container-id-1 div.sk-container {/* jupyter's `normalize.less` sets `[hidden] { display: none; }` but bootstrap.min.css set `[hidden] { display: none !important; }` so we also need the `!important` here to be able to override the default hidden behavior on the sphinx rendered scikit-learn.org. See: https://github.com/scikit-learn/scikit-learn/issues/21755 */display: inline-block !important;position: relative;}#sk-container-id-1 div.sk-text-repr-fallback {display: none;}</style><div id=\"sk-container-id-1\" class=\"sk-top-container\"><div class=\"sk-text-repr-fallback\"><pre>DecisionTreeClassifier()</pre><b>In a Jupyter environment, please rerun this cell to show the HTML representation or trust the notebook. <br />On GitHub, the HTML representation is unable to render, please try loading this page with nbviewer.org.</b></div><div class=\"sk-container\" hidden><div class=\"sk-item\"><div class=\"sk-estimator sk-toggleable\"><input class=\"sk-toggleable__control sk-hidden--visually\" id=\"sk-estimator-id-1\" type=\"checkbox\" checked><label for=\"sk-estimator-id-1\" class=\"sk-toggleable__label sk-toggleable__label-arrow\">DecisionTreeClassifier</label><div class=\"sk-toggleable__content\"><pre>DecisionTreeClassifier()</pre></div></div></div></div></div>"
      ],
      "text/plain": [
       "DecisionTreeClassifier()"
      ]
     },
     "execution_count": 58,
     "metadata": {},
     "output_type": "execute_result"
    }
   ],
   "source": [
    "clf = DecisionTreeClassifier()\n",
    "clf.fit(X_new_df, y)"
   ]
  },
  {
   "cell_type": "code",
   "execution_count": 59,
   "id": "637c3fa7",
   "metadata": {},
   "outputs": [],
   "source": [
    "val_preds = clf.predict(x_val_new)"
   ]
  },
  {
   "cell_type": "code",
   "execution_count": 60,
   "id": "3939069d",
   "metadata": {},
   "outputs": [],
   "source": [
    "val_acc = accuracy_score(y_val, val_preds)\n",
    "val_prec = precision_score(y_val, val_preds, average='weighted')\n",
    "val_rec = recall_score(y_val, val_preds, average='weighted')"
   ]
  },
  {
   "cell_type": "code",
   "execution_count": 61,
   "id": "bb083d13",
   "metadata": {
    "scrolled": false
   },
   "outputs": [
    {
     "name": "stdout",
     "output_type": "stream",
     "text": [
      "Validation Metrics:\n",
      "Accuracy: 0.8525\n",
      "Precision: 0.8495\n",
      "Recall: 0.8525\n"
     ]
    }
   ],
   "source": [
    "print(\"Validation Metrics:\")\n",
    "print(f\"Accuracy: {val_acc:.4f}\")\n",
    "print(f\"Precision: {val_prec:.4f}\")\n",
    "print(f\"Recall: {val_rec:.4f}\")"
   ]
  },
  {
   "cell_type": "code",
   "execution_count": 62,
   "id": "5dac7505",
   "metadata": {
    "scrolled": false
   },
   "outputs": [
    {
     "data": {
      "image/png": "[encoded data removed]",
      "text/plain": [
       "<Figure size 1440x720 with 1 Axes>"
      ]
     },
     "metadata": {
      "needs_background": "light"
     },
     "output_type": "display_data"
    }
   ],
   "source": [
    "plt.figure(figsize=(20,10))\n",
    "plot_tree(clf, filled=True)\n",
    "plt.show()"
   ]
  },
  {
   "cell_type": "code",
   "execution_count": 63,
   "id": "cec79f7d",
   "metadata": {
    "scrolled": true
   },
   "outputs": [
    {
     "data": {
      "image/png": "[encoded data removed]",
      "text/plain": [
       "<Figure size 432x288 with 2 Axes>"
      ]
     },
     "metadata": {
      "needs_background": "light"
     },
     "output_type": "display_data"
    }
   ],
   "source": [
    "Accuracy = metrics.accuracy_score(y_val, val_preds)\n",
    "confusion_matrix = metrics.confusion_matrix(y_val, val_preds)\n",
    "cmap = plt.get_cmap('Spectral')\n",
    "plt.imshow(confusion_matrix, interpolation='nearest', cmap=cmap)\n",
    "plt.title('Confusion Matrix')\n",
    "plt.colorbar()\n",
    "tick_marks = [0,1]\n",
    "plt.xticks(tick_marks, tick_marks)\n",
    "plt.yticks(tick_marks, tick_marks)\n",
    "plt.ylabel('True label')\n",
    "plt.xlabel('Predicted label')\n",
    "for i in range(len(confusion_matrix)):\n",
    "    for j in range(len(confusion_matrix[0])):\n",
    "        plt.text(j,i,format(confusion_matrix[i][j]),horizontalalignment='center',color='white' if confusion_matrix[i][j]>confusion_matrix.max()/2 else 'black')\n",
    "plt.show()"
   ]
  },
  {
   "cell_type": "code",
   "execution_count": 65,
   "id": "e5e69913",
   "metadata": {},
   "outputs": [
    {
     "data": {
      "image/png": "[encoded data removed]",
      "text/plain": [
       "<Figure size 432x288 with 2 Axes>"
      ]
     },
     "metadata": {
      "needs_background": "light"
     },
     "output_type": "display_data"
    }
   ],
   "source": [
    "y_preds = clf.predict(X_new_df)\n",
    "Accuracy = metrics.accuracy_score(y, y_preds)\n",
    "confusion_matrix = metrics.confusion_matrix(y, y_preds)\n",
    "cmap = plt.get_cmap('Spectral')\n",
    "plt.imshow(confusion_matrix, interpolation='nearest', cmap=cmap)\n",
    "plt.title('Confusion Matrix')\n",
    "plt.colorbar()\n",
    "tick_marks = [0,1]\n",
    "plt.xticks(tick_marks, tick_marks)\n",
    "plt.yticks(tick_marks, tick_marks)\n",
    "plt.ylabel('True label')\n",
    "plt.xlabel('Predicted label')\n",
    "for i in range(len(confusion_matrix)):\n",
    "    for j in range(len(confusion_matrix[0])):\n",
    "        plt.text(j,i,format(confusion_matrix[i][j]),horizontalalignment='center',color='white' if confusion_matrix[i][j]>confusion_matrix.max()/2 else 'black')\n",
    "plt.show()"
   ]
  },
  {
   "cell_type": "code",
   "execution_count": 66,
   "id": "165aece3",
   "metadata": {},
   "outputs": [],
   "source": [
    "param_grid = {\n",
    "    'criterion': ['gini', 'entropy'],\n",
    "    'max_depth': [None, 5, 7, 10, 15],\n",
    "    'min_samples_split': [2, 4, 7, 9]\n",
    "}"
   ]
  },
  {
   "cell_type": "code",
   "execution_count": 67,
   "id": "e4c4a669",
   "metadata": {},
   "outputs": [
    {
     "data": {
      "text/html": [
       "<style>#sk-container-id-2 {color: black;background-color: white;}#sk-container-id-2 pre{padding: 0;}#sk-container-id-2 div.sk-toggleable {background-color: white;}#sk-container-id-2 label.sk-toggleable__label {cursor: pointer;display: block;width: 100%;margin-bottom: 0;padding: 0.3em;box-sizing: border-box;text-align: center;}#sk-container-id-2 label.sk-toggleable__label-arrow:before {content: \"▸\";float: left;margin-right: 0.25em;color: #696969;}#sk-container-id-2 label.sk-toggleable__label-arrow:hover:before {color: black;}#sk-container-id-2 div.sk-estimator:hover label.sk-toggleable__label-arrow:before {color: black;}#sk-container-id-2 div.sk-toggleable__content {max-height: 0;max-width: 0;overflow: hidden;text-align: left;background-color: #f0f8ff;}#sk-container-id-2 div.sk-toggleable__content pre {margin: 0.2em;color: black;border-radius: 0.25em;background-color: #f0f8ff;}#sk-container-id-2 input.sk-toggleable__control:checked~div.sk-toggleable__content {max-height: 200px;max-width: 100%;overflow: auto;}#sk-container-id-2 input.sk-toggleable__control:checked~label.sk-toggleable__label-arrow:before {content: \"▾\";}#sk-container-id-2 div.sk-estimator input.sk-toggleable__control:checked~label.sk-toggleable__label {background-color: #d4ebff;}#sk-container-id-2 div.sk-label input.sk-toggleable__control:checked~label.sk-toggleable__label {background-color: #d4ebff;}#sk-container-id-2 input.sk-hidden--visually {border: 0;clip: rect(1px 1px 1px 1px);clip: rect(1px, 1px, 1px, 1px);height: 1px;margin: -1px;overflow: hidden;padding: 0;position: absolute;width: 1px;}#sk-container-id-2 div.sk-estimator {font-family: monospace;background-color: #f0f8ff;border: 1px dotted black;border-radius: 0.25em;box-sizing: border-box;margin-bottom: 0.5em;}#sk-container-id-2 div.sk-estimator:hover {background-color: #d4ebff;}#sk-container-id-2 div.sk-parallel-item::after {content: \"\";width: 100%;border-bottom: 1px solid gray;flex-grow: 1;}#sk-container-id-2 div.sk-label:hover label.sk-toggleable__label {background-color: #d4ebff;}#sk-container-id-2 div.sk-serial::before {content: \"\";position: absolute;border-left: 1px solid gray;box-sizing: border-box;top: 0;bottom: 0;left: 50%;z-index: 0;}#sk-container-id-2 div.sk-serial {display: flex;flex-direction: column;align-items: center;background-color: white;padding-right: 0.2em;padding-left: 0.2em;position: relative;}#sk-container-id-2 div.sk-item {position: relative;z-index: 1;}#sk-container-id-2 div.sk-parallel {display: flex;align-items: stretch;justify-content: center;background-color: white;position: relative;}#sk-container-id-2 div.sk-item::before, #sk-container-id-2 div.sk-parallel-item::before {content: \"\";position: absolute;border-left: 1px solid gray;box-sizing: border-box;top: 0;bottom: 0;left: 50%;z-index: -1;}#sk-container-id-2 div.sk-parallel-item {display: flex;flex-direction: column;z-index: 1;position: relative;background-color: white;}#sk-container-id-2 div.sk-parallel-item:first-child::after {align-self: flex-end;width: 50%;}#sk-container-id-2 div.sk-parallel-item:last-child::after {align-self: flex-start;width: 50%;}#sk-container-id-2 div.sk-parallel-item:only-child::after {width: 0;}#sk-container-id-2 div.sk-dashed-wrapped {border: 1px dashed gray;margin: 0 0.4em 0.5em 0.4em;box-sizing: border-box;padding-bottom: 0.4em;background-color: white;}#sk-container-id-2 div.sk-label label {font-family: monospace;font-weight: bold;display: inline-block;line-height: 1.2em;}#sk-container-id-2 div.sk-label-container {text-align: center;}#sk-container-id-2 div.sk-container {/* jupyter's `normalize.less` sets `[hidden] { display: none; }` but bootstrap.min.css set `[hidden] { display: none !important; }` so we also need the `!important` here to be able to override the default hidden behavior on the sphinx rendered scikit-learn.org. See: https://github.com/scikit-learn/scikit-learn/issues/21755 */display: inline-block !important;position: relative;}#sk-container-id-2 div.sk-text-repr-fallback {display: none;}</style><div id=\"sk-container-id-2\" class=\"sk-top-container\"><div class=\"sk-text-repr-fallback\"><pre>GridSearchCV(cv=5, estimator=DecisionTreeClassifier(),\n",
       "             param_grid={&#x27;criterion&#x27;: [&#x27;gini&#x27;, &#x27;entropy&#x27;],\n",
       "                         &#x27;max_depth&#x27;: [None, 5, 7, 10, 15],\n",
       "                         &#x27;min_samples_split&#x27;: [2, 4, 7, 9]})</pre><b>In a Jupyter environment, please rerun this cell to show the HTML representation or trust the notebook. <br />On GitHub, the HTML representation is unable to render, please try loading this page with nbviewer.org.</b></div><div class=\"sk-container\" hidden><div class=\"sk-item sk-dashed-wrapped\"><div class=\"sk-label-container\"><div class=\"sk-label sk-toggleable\"><input class=\"sk-toggleable__control sk-hidden--visually\" id=\"sk-estimator-id-2\" type=\"checkbox\" ><label for=\"sk-estimator-id-2\" class=\"sk-toggleable__label sk-toggleable__label-arrow\">GridSearchCV</label><div class=\"sk-toggleable__content\"><pre>GridSearchCV(cv=5, estimator=DecisionTreeClassifier(),\n",
       "             param_grid={&#x27;criterion&#x27;: [&#x27;gini&#x27;, &#x27;entropy&#x27;],\n",
       "                         &#x27;max_depth&#x27;: [None, 5, 7, 10, 15],\n",
       "                         &#x27;min_samples_split&#x27;: [2, 4, 7, 9]})</pre></div></div></div><div class=\"sk-parallel\"><div class=\"sk-parallel-item\"><div class=\"sk-item\"><div class=\"sk-label-container\"><div class=\"sk-label sk-toggleable\"><input class=\"sk-toggleable__control sk-hidden--visually\" id=\"sk-estimator-id-3\" type=\"checkbox\" ><label for=\"sk-estimator-id-3\" class=\"sk-toggleable__label sk-toggleable__label-arrow\">estimator: DecisionTreeClassifier</label><div class=\"sk-toggleable__content\"><pre>DecisionTreeClassifier()</pre></div></div></div><div class=\"sk-serial\"><div class=\"sk-item\"><div class=\"sk-estimator sk-toggleable\"><input class=\"sk-toggleable__control sk-hidden--visually\" id=\"sk-estimator-id-4\" type=\"checkbox\" ><label for=\"sk-estimator-id-4\" class=\"sk-toggleable__label sk-toggleable__label-arrow\">DecisionTreeClassifier</label><div class=\"sk-toggleable__content\"><pre>DecisionTreeClassifier()</pre></div></div></div></div></div></div></div></div></div></div>"
      ],
      "text/plain": [
       "GridSearchCV(cv=5, estimator=DecisionTreeClassifier(),\n",
       "             param_grid={'criterion': ['gini', 'entropy'],\n",
       "                         'max_depth': [None, 5, 7, 10, 15],\n",
       "                         'min_samples_split': [2, 4, 7, 9]})"
      ]
     },
     "execution_count": 67,
     "metadata": {},
     "output_type": "execute_result"
    }
   ],
   "source": [
    "grid_search = GridSearchCV(clf, param_grid=param_grid, cv=5)\n",
    "grid_search.fit(X_new_df, y)"
   ]
  },
  {
   "cell_type": "code",
   "execution_count": 68,
   "id": "1fda49d5",
   "metadata": {},
   "outputs": [
    {
     "name": "stdout",
     "output_type": "stream",
     "text": [
      "Training accuracy: 0.88\n",
      "Validation accuracy: 0.88\n"
     ]
    }
   ],
   "source": [
    "best_clf = grid_search.best_estimator_\n",
    "best_clf.fit(X_new_df, y)\n",
    "\n",
    "# Evaluate the performance of the classifier on the training and validation sets\n",
    "train_acc = best_clf.score(X_new_df, y)\n",
    "val_acc = best_clf.score(x_val_new, y_val)\n",
    "\n",
    "# Print the training and validation accuracies\n",
    "print(\"Training accuracy: {:.2f}\".format(train_acc))\n",
    "print(\"Validation accuracy: {:.2f}\".format(val_acc))"
   ]
  },
  {
   "cell_type": "code",
   "execution_count": 70,
   "id": "fd49a077",
   "metadata": {
    "scrolled": true
   },
   "outputs": [
    {
     "data": {
      "image/png": "[encoded data removed]",
      "text/plain": [
       "<Figure size 432x288 with 2 Axes>"
      ]
     },
     "metadata": {
      "needs_background": "light"
     },
     "output_type": "display_data"
    }
   ],
   "source": [
    "val_preds = best_clf.predict(x_val_new)\n",
    "Accuracy = metrics.accuracy_score(y_val, val_preds)\n",
    "confusion_matrix = metrics.confusion_matrix(y_val, val_preds)\n",
    "cmap = plt.get_cmap('Spectral')\n",
    "plt.imshow(confusion_matrix, interpolation='nearest', cmap=cmap)\n",
    "plt.title('Confusion Matrix')\n",
    "plt.colorbar()\n",
    "tick_marks = [0,1]\n",
    "plt.xticks(tick_marks, tick_marks)\n",
    "plt.yticks(tick_marks, tick_marks)\n",
    "plt.ylabel('True label')\n",
    "plt.xlabel('Predicted label')\n",
    "for i in range(len(confusion_matrix)):\n",
    "    for j in range(len(confusion_matrix[0])):\n",
    "        plt.text(j,i,format(confusion_matrix[i][j]),horizontalalignment='center',color='white' if confusion_matrix[i][j]>confusion_matrix.max()/2 else 'black')\n",
    "plt.show()"
   ]
  },
  {
   "cell_type": "code",
   "execution_count": 71,
   "id": "24890b17",
   "metadata": {},
   "outputs": [
    {
     "data": {
      "image/png": "[encoded data removed]",
      "text/plain": [
       "<Figure size 432x288 with 2 Axes>"
      ]
     },
     "metadata": {
      "needs_background": "light"
     },
     "output_type": "display_data"
    }
   ],
   "source": [
    "\n",
    "y_preds = best_clf.predict(X_new_df)\n",
    "Accuracy = metrics.accuracy_score(y, y_preds)\n",
    "confusion_matrix = metrics.confusion_matrix(y, y_preds)\n",
    "cmap = plt.get_cmap('Spectral')\n",
    "plt.imshow(confusion_matrix, interpolation='nearest', cmap=cmap)\n",
    "plt.title('Confusion Matrix')\n",
    "plt.colorbar()\n",
    "tick_marks = [0,1]\n",
    "plt.xticks(tick_marks, tick_marks)\n",
    "plt.yticks(tick_marks, tick_marks)\n",
    "plt.ylabel('True label')\n",
    "plt.xlabel('Predicted label')\n",
    "for i in range(len(confusion_matrix)):\n",
    "    for j in range(len(confusion_matrix[0])):\n",
    "        plt.text(j,i,format(confusion_matrix[i][j]),horizontalalignment='center',color='white' if confusion_matrix[i][j]>confusion_matrix.max()/2 else 'black')\n",
    "plt.show()"
   ]
  },
  {
   "cell_type": "code",
   "execution_count": 72,
   "id": "e586c087",
   "metadata": {
    "scrolled": true
   },
   "outputs": [
    {
     "name": "stdout",
     "output_type": "stream",
     "text": [
      "Best parameters: {'criterion': 'entropy', 'max_depth': 5, 'min_samples_split': 2}\n"
     ]
    }
   ],
   "source": [
    "print(\"Best parameters: {}\".format(grid_search.best_params_))"
   ]
  },
  {
   "cell_type": "markdown",
   "id": "dfbf6566",
   "metadata": {},
   "source": [
    "#  total impurity of leaves vs the effective alphas of pruned tree"
   ]
  },
  {
   "cell_type": "code",
   "execution_count": 74,
   "id": "0d46d90e",
   "metadata": {},
   "outputs": [],
   "source": [
    "#Effective alphas and total impurities at each step of the pruning process\n",
    "path = clf.cost_complexity_pruning_path(X, y)\n",
    "ccp_alphas, impurities = path.ccp_alphas, path.impurities"
   ]
  },
  {
   "cell_type": "code",
   "execution_count": 75,
   "id": "5018bc56",
   "metadata": {
    "scrolled": true
   },
   "outputs": [
    {
     "data": {
      "image/png": "[encoded data removed]",
      "text/plain": [
       "<Figure size 432x288 with 1 Axes>"
      ]
     },
     "metadata": {
      "needs_background": "light"
     },
     "output_type": "display_data"
    }
   ],
   "source": [
    "fig, ax = plt.subplots()\n",
    "ax.plot(ccp_alphas[:-1], impurities[:-1], marker='o', ms = 10, drawstyle=\"steps-pre\",color=\"mediumvioletred\")\n",
    "ax.set_xlabel(\"Effective alpha\")\n",
    "ax.set_ylabel(\"Total impurity of leaves\")\n",
    "ax.set_title(\"Total impurity of leaves vs effective alpha\")\n",
    "plt.show()"
   ]
  },
  {
   "cell_type": "markdown",
   "id": "408c7a1c",
   "metadata": {},
   "source": [
    "# number of nodes vs alpha and the depth of the tree vs alpha"
   ]
  },
  {
   "cell_type": "code",
   "execution_count": 76,
   "id": "973b2db3",
   "metadata": {},
   "outputs": [
    {
     "data": {
      "image/png": "[encoded data removed]",
      "text/plain": [
       "<Figure size 432x288 with 2 Axes>"
      ]
     },
     "metadata": {
      "needs_background": "light"
     },
     "output_type": "display_data"
    }
   ],
   "source": [
    "clfs = []\n",
    "for ccp_alpha in ccp_alphas:\n",
    "    clf = DecisionTreeClassifier(random_state=42, ccp_alpha=ccp_alpha)\n",
    "    clf.fit(X, y)\n",
    "    clfs.append(clf)\n",
    "node_counts = [clf.tree_.node_count for clf in clfs]\n",
    "depth = [clf.tree_.max_depth for clf in clfs]\n",
    "fig, ax = plt.subplots(2, 1)\n",
    "ax[0].plot(ccp_alphas[:-1], node_counts[:-1], marker='o', drawstyle=\"steps-post\")\n",
    "ax[0].set_xlabel(\"Effective alpha\")\n",
    "ax[0].set_ylabel(\"Number of nodes\")\n",
    "ax[0].set_title(\"Number of nodes vs effective alpha\")\n",
    "ax[1].plot(ccp_alphas[:-1], depth[:-1], marker='o', drawstyle=\"steps-post\",color=\"red\")\n",
    "ax[1].set_xlabel(\"Effective alpha\")\n",
    "ax[1].set_ylabel(\"Depth of tree\")\n",
    "ax[1].set_title(\"Depth vs effective alpha\")\n",
    "fig.tight_layout()\n",
    "plt.show()"
   ]
  },
  {
   "cell_type": "markdown",
   "id": "51088c8b",
   "metadata": {},
   "source": [
    "# training accuracy, validation accuracy, and test accuracy vs alpha."
   ]
  },
  {
   "cell_type": "code",
   "execution_count": 77,
   "id": "0f9849bb",
   "metadata": {
    "scrolled": true
   },
   "outputs": [
    {
     "data": {
      "text/plain": [
       "[<matplotlib.lines.Line2D at 0x7f7d4109bd90>]"
      ]
     },
     "execution_count": 77,
     "metadata": {},
     "output_type": "execute_result"
    },
    {
     "data": {
      "image/png": "[encoded data removed]",
      "text/plain": [
       "<Figure size 432x288 with 1 Axes>"
      ]
     },
     "metadata": {
      "needs_background": "light"
     },
     "output_type": "display_data"
    }
   ],
   "source": [
    "train_scores = [clf.score(X, y) for clf in clfs]\n",
    "val_scores = [clf.score(X_val, y_val) for clf in clfs]\n",
    "#test_scores = [clf.score(X_test, y_test) for clf in clfs]\n",
    "fig, ax = plt.subplots()\n",
    "ax.set_xlabel(\"Alpha\")\n",
    "ax.set_ylabel(\"Accuracy\")\n",
    "ax.set_title(\"Accuracy vs alpha for training, validation, and test sets\")\n",
    "ax.plot(ccp_alphas[:-1], train_scores[:-1], marker='o', label=\"train\", drawstyle=\"steps-post\")\n",
    "ax.plot(ccp_alphas[:-1], val_scores[:-1], marker='o', label=\"validation\", drawstyle=\"steps-post\")\n",
    "#ax.plot(ccp_alphas[:-1], test_scores[:-1], marker='o',"
   ]
  },
  {
   "cell_type": "code",
   "execution_count": 78,
   "id": "47065e61",
   "metadata": {},
   "outputs": [
    {
     "name": "stdout",
     "output_type": "stream",
     "text": [
      "Training accuracy =  0.9755\n",
      "Validation accuracy =  0.9375\n"
     ]
    },
    {
     "data": {
      "image/png": "[encoded data removed]",
      "text/plain": [
       "<Figure size 1440x720 with 1 Axes>"
      ]
     },
     "metadata": {
      "needs_background": "light"
     },
     "output_type": "display_data"
    }
   ],
   "source": [
    "# Best performing tree\n",
    "i = np.argmax(val_scores)\n",
    "print(\"Training accuracy = \", train_scores[i])\n",
    "print(\"Validation accuracy = \", val_scores[i])\n",
    "plt.figure(figsize=(20,10))\n",
    "plot_tree(clfs[i],filled=True)\n",
    "plt.show()"
   ]
  },
  {
   "cell_type": "code",
   "execution_count": 79,
   "id": "55d7de0d",
   "metadata": {
    "scrolled": true
   },
   "outputs": [
    {
     "data": {
      "image/png": "[encoded data removed]",
      "text/plain": [
       "<Figure size 432x288 with 2 Axes>"
      ]
     },
     "metadata": {
      "needs_background": "light"
     },
     "output_type": "display_data"
    }
   ],
   "source": [
    "y_preds = clfs[i].predict(X_val)\n",
    "Accuracy = metrics.accuracy_score(y_val, val_preds)\n",
    "confusion_matrix = metrics.confusion_matrix(y_val, val_preds)\n",
    "cmap = plt.get_cmap('Spectral')\n",
    "plt.imshow(confusion_matrix, interpolation='nearest', cmap=cmap)\n",
    "plt.title('Confusion Matrix')\n",
    "plt.colorbar()\n",
    "tick_marks = [0,1]\n",
    "plt.xticks(tick_marks, tick_marks)\n",
    "plt.yticks(tick_marks, tick_marks)\n",
    "plt.ylabel('True label')\n",
    "plt.xlabel('Predicted label')\n",
    "for i in range(len(confusion_matrix)):\n",
    "    for j in range(len(confusion_matrix[0])):\n",
    "        plt.text(j,i,format(confusion_matrix[i][j]),horizontalalignment='center',color='white' if confusion_matrix[i][j]>confusion_matrix.max()/2 else 'black')\n",
    "plt.show()"
   ]
  },
  {
   "cell_type": "code",
   "execution_count": 80,
   "id": "bf71305e",
   "metadata": {},
   "outputs": [
    {
     "data": {
      "image/png": "[encoded data removed]",
      "text/plain": [
       "<Figure size 432x288 with 2 Axes>"
      ]
     },
     "metadata": {
      "needs_background": "light"
     },
     "output_type": "display_data"
    }
   ],
   "source": [
    "y_preds = clfs[i].predict(X)\n",
    "Accuracy = metrics.accuracy_score(y, y_preds)\n",
    "confusion_matrix = metrics.confusion_matrix(y, y_preds)\n",
    "cmap = plt.get_cmap('Spectral')\n",
    "plt.imshow(confusion_matrix, interpolation='nearest', cmap=cmap)\n",
    "plt.title('Confusion Matrix')\n",
    "plt.colorbar()\n",
    "tick_marks = [0,1]\n",
    "plt.xticks(tick_marks, tick_marks)\n",
    "plt.yticks(tick_marks, tick_marks)\n",
    "plt.ylabel('True label')\n",
    "plt.xlabel('Predicted label')\n",
    "for i in range(len(confusion_matrix)):\n",
    "    for j in range(len(confusion_matrix[0])):\n",
    "        plt.text(j,i,format(confusion_matrix[i][j]),horizontalalignment='center',color='white' if confusion_matrix[i][j]>confusion_matrix.max()/2 else 'black')\n",
    "plt.show()"
   ]
  },
  {
   "cell_type": "markdown",
   "id": "3b1267e3",
   "metadata": {},
   "source": [
    "# Random Forest (default)"
   ]
  },
  {
   "cell_type": "code",
   "execution_count": 81,
   "id": "c8c8b9df",
   "metadata": {},
   "outputs": [
    {
     "name": "stdout",
     "output_type": "stream",
     "text": [
      "Training accuracy: 1.0\n",
      "Training precision: 1.0\n",
      "Training recall: 1.0\n",
      "Validation accuracy: 0.9675\n",
      "Validation precision: 1.0\n",
      "Validation recall: 0.87\n"
     ]
    }
   ],
   "source": [
    "rf = RandomForestClassifier()\n",
    "rf.fit(X, y)\n",
    "\n",
    "y_train_pred = rf.predict(X)\n",
    "y_val_pred = rf.predict(X_val)\n",
    "\n",
    "train_accuracy = accuracy_score(y, y_train_pred)\n",
    "train_precision = precision_score(y, y_train_pred)\n",
    "train_recall = recall_score(y, y_train_pred)\n",
    "\n",
    "val_accuracy = accuracy_score(y_val, y_val_pred)\n",
    "val_precision = precision_score(y_val, y_val_pred)\n",
    "val_recall = recall_score(y_val, y_val_pred)\n",
    "\n",
    "print(\"Training accuracy:\", train_accuracy)\n",
    "print(\"Training precision:\", train_precision)\n",
    "print(\"Training recall:\", train_recall)\n",
    "\n",
    "print(\"Validation accuracy:\", val_accuracy)\n",
    "print(\"Validation precision:\", val_precision)\n",
    "print(\"Validation recall:\", val_recall)"
   ]
  },
  {
   "cell_type": "code",
   "execution_count": 83,
   "id": "8c008712",
   "metadata": {
    "scrolled": true
   },
   "outputs": [
    {
     "data": {
      "image/png": "[encoded data removed]",
      "text/plain": [
       "<Figure size 432x288 with 2 Axes>"
      ]
     },
     "metadata": {
      "needs_background": "light"
     },
     "output_type": "display_data"
    }
   ],
   "source": [
    "Accuracy = metrics.accuracy_score(y_val, y_val_pred)\n",
    "confusion_matrix = metrics.confusion_matrix(y_val, y_val_pred)\n",
    "cmap = plt.get_cmap('Spectral')\n",
    "plt.imshow(confusion_matrix, interpolation='nearest', cmap=cmap)\n",
    "plt.title('Confusion Matrix')\n",
    "plt.colorbar()\n",
    "tick_marks = [0,1]\n",
    "plt.xticks(tick_marks, tick_marks)\n",
    "plt.yticks(tick_marks, tick_marks)\n",
    "plt.ylabel('True label')\n",
    "plt.xlabel('Predicted label')\n",
    "for i in range(len(confusion_matrix)):\n",
    "    for j in range(len(confusion_matrix[0])):\n",
    "        plt.text(j,i,format(confusion_matrix[i][j]),horizontalalignment='center',color='white' if confusion_matrix[i][j]>confusion_matrix.max()/2 else 'black')\n",
    "plt.show()"
   ]
  },
  {
   "cell_type": "code",
   "execution_count": 86,
   "id": "4911ba3a",
   "metadata": {},
   "outputs": [
    {
     "data": {
      "image/png": "[encoded data removed]",
      "text/plain": [
       "<Figure size 432x288 with 2 Axes>"
      ]
     },
     "metadata": {
      "needs_background": "light"
     },
     "output_type": "display_data"
    }
   ],
   "source": [
    "Accuracy = metrics.accuracy_score(y, y_train_pred)\n",
    "confusion_matrix = metrics.confusion_matrix(y, y_train_pred)\n",
    "cmap = plt.get_cmap('Spectral')\n",
    "plt.imshow(confusion_matrix, interpolation='nearest', cmap=cmap)\n",
    "plt.title('Confusion Matrix')\n",
    "plt.colorbar()\n",
    "tick_marks = [0,1]\n",
    "plt.xticks(tick_marks, tick_marks)\n",
    "plt.yticks(tick_marks, tick_marks)\n",
    "plt.ylabel('True label')\n",
    "plt.xlabel('Predicted label')\n",
    "for i in range(len(confusion_matrix)):\n",
    "    for j in range(len(confusion_matrix[0])):\n",
    "        plt.text(j,i,format(confusion_matrix[i][j]),horizontalalignment='center',color='white' if confusion_matrix[i][j]>confusion_matrix.max()/2 else 'black')\n",
    "plt.show()"
   ]
  },
  {
   "cell_type": "markdown",
   "id": "7bb968f6",
   "metadata": {},
   "source": [
    "# Random Forest (grid-search)"
   ]
  },
  {
   "cell_type": "code",
   "execution_count": 87,
   "id": "5a5a530c",
   "metadata": {},
   "outputs": [
    {
     "name": "stdout",
     "output_type": "stream",
     "text": [
      "Best parameters: {'criterion': 'entropy', 'max_depth': None, 'min_samples_split': 10, 'n_estimators': 200}\n",
      "Training accuracy: 1.0\n",
      "Training precision: 1.0\n",
      "Training recall: 1.0\n",
      "Validation accuracy: 0.975\n",
      "Validation precision: 1.0\n",
      "Validation recall: 0.9\n"
     ]
    }
   ],
   "source": [
    "param_grid = {\n",
    "    'n_estimators': [80, 100, 150, 200],\n",
    "    'criterion': ['gini', 'entropy'],\n",
    "    'max_depth': [None, 5, 7, 10],\n",
    "    'min_samples_split': [5, 7, 10]\n",
    "}\n",
    "\n",
    "rf = RandomForestClassifier()\n",
    "grid_search = GridSearchCV(rf, param_grid, cv=5, n_jobs=-1)\n",
    "grid_search.fit(X, y)\n",
    "\n",
    "print(\"Best parameters:\", grid_search.best_params_)\n",
    "\n",
    "best_rf = grid_search.best_estimator_\n",
    "y_train_pred = best_rf.predict(X)\n",
    "y_val_pred = best_rf.predict(X_val)\n",
    "\n",
    "train_accuracy = accuracy_score(y, y_train_pred)\n",
    "train_precision = precision_score(y, y_train_pred)\n",
    "train_recall = recall_score(y, y_train_pred)\n",
    "\n",
    "val_accuracy = accuracy_score(y_val, y_val_pred)\n",
    "val_precision = precision_score(y_val, y_val_pred)\n",
    "val_recall = recall_score(y_val, y_val_pred)\n",
    "\n",
    "print(\"Training accuracy:\", train_accuracy)\n",
    "print(\"Training precision:\", train_precision)\n",
    "print(\"Training recall:\", train_recall)\n",
    "\n",
    "print(\"Validation accuracy:\", val_accuracy)\n",
    "print(\"Validation precision:\", val_precision)\n",
    "print(\"Validation recall:\", val_recall)"
   ]
  },
  {
   "cell_type": "code",
   "execution_count": 88,
   "id": "af06d5fb",
   "metadata": {
    "scrolled": true
   },
   "outputs": [
    {
     "data": {
      "image/png": "[encoded data removed]",
      "text/plain": [
       "<Figure size 432x288 with 2 Axes>"
      ]
     },
     "metadata": {
      "needs_background": "light"
     },
     "output_type": "display_data"
    }
   ],
   "source": [
    "Accuracy = metrics.accuracy_score(y_val, y_val_pred)\n",
    "confusion_matrix = metrics.confusion_matrix(y_val, y_val_pred)\n",
    "cmap = plt.get_cmap('Spectral')\n",
    "plt.imshow(confusion_matrix, interpolation='nearest', cmap=cmap)\n",
    "plt.title('Confusion Matrix')\n",
    "plt.colorbar()\n",
    "tick_marks = [0,1]\n",
    "plt.xticks(tick_marks, tick_marks)\n",
    "plt.yticks(tick_marks, tick_marks)\n",
    "plt.ylabel('True label')\n",
    "plt.xlabel('Predicted label')\n",
    "for i in range(len(confusion_matrix)):\n",
    "    for j in range(len(confusion_matrix[0])):\n",
    "        plt.text(j,i,format(confusion_matrix[i][j]),horizontalalignment='center',color='white' if confusion_matrix[i][j]>confusion_matrix.max()/2 else 'black')\n",
    "plt.show()"
   ]
  },
  {
   "cell_type": "code",
   "execution_count": 89,
   "id": "0b7345a3",
   "metadata": {
    "scrolled": true
   },
   "outputs": [
    {
     "data": {
      "image/png": "[encoded data removed]",
      "text/plain": [
       "<Figure size 432x288 with 2 Axes>"
      ]
     },
     "metadata": {
      "needs_background": "light"
     },
     "output_type": "display_data"
    }
   ],
   "source": [
    "Accuracy = metrics.accuracy_score(y, y_train_pred)\n",
    "confusion_matrix = metrics.confusion_matrix(y, y_train_pred)\n",
    "cmap = plt.get_cmap('Spectral')\n",
    "plt.imshow(confusion_matrix, interpolation='nearest', cmap=cmap)\n",
    "plt.title('Confusion Matrix')\n",
    "plt.colorbar()\n",
    "tick_marks = [0,1]\n",
    "plt.xticks(tick_marks, tick_marks)\n",
    "plt.yticks(tick_marks, tick_marks)\n",
    "plt.ylabel('True label')\n",
    "plt.xlabel('Predicted label')\n",
    "for i in range(len(confusion_matrix)):\n",
    "    for j in range(len(confusion_matrix[0])):\n",
    "        plt.text(j,i,format(confusion_matrix[i][j]),horizontalalignment='center',color='white' if confusion_matrix[i][j]>confusion_matrix.max()/2 else 'black')\n",
    "plt.show()"
   ]
  },
  {
   "cell_type": "code",
   "execution_count": 90,
   "id": "32c62d14",
   "metadata": {},
   "outputs": [
    {
     "name": "stdout",
     "output_type": "stream",
     "text": [
      "Best parameters: {'criterion': 'entropy', 'max_depth': None, 'min_samples_split': 10, 'n_estimators': 200}\n"
     ]
    }
   ],
   "source": [
    "print(\"Best parameters: {}\".format(grid_search.best_params_))"
   ]
  },
  {
   "cell_type": "markdown",
   "id": "4683e035",
   "metadata": {},
   "source": [
    "# Gradient Boosted Trees"
   ]
  },
  {
   "cell_type": "code",
   "execution_count": 91,
   "id": "4b5fad2e",
   "metadata": {
    "scrolled": false
   },
   "outputs": [
    {
     "data": {
      "text/html": [
       "<style>#sk-container-id-3 {color: black;background-color: white;}#sk-container-id-3 pre{padding: 0;}#sk-container-id-3 div.sk-toggleable {background-color: white;}#sk-container-id-3 label.sk-toggleable__label {cursor: pointer;display: block;width: 100%;margin-bottom: 0;padding: 0.3em;box-sizing: border-box;text-align: center;}#sk-container-id-3 label.sk-toggleable__label-arrow:before {content: \"▸\";float: left;margin-right: 0.25em;color: #696969;}#sk-container-id-3 label.sk-toggleable__label-arrow:hover:before {color: black;}#sk-container-id-3 div.sk-estimator:hover label.sk-toggleable__label-arrow:before {color: black;}#sk-container-id-3 div.sk-toggleable__content {max-height: 0;max-width: 0;overflow: hidden;text-align: left;background-color: #f0f8ff;}#sk-container-id-3 div.sk-toggleable__content pre {margin: 0.2em;color: black;border-radius: 0.25em;background-color: #f0f8ff;}#sk-container-id-3 input.sk-toggleable__control:checked~div.sk-toggleable__content {max-height: 200px;max-width: 100%;overflow: auto;}#sk-container-id-3 input.sk-toggleable__control:checked~label.sk-toggleable__label-arrow:before {content: \"▾\";}#sk-container-id-3 div.sk-estimator input.sk-toggleable__control:checked~label.sk-toggleable__label {background-color: #d4ebff;}#sk-container-id-3 div.sk-label input.sk-toggleable__control:checked~label.sk-toggleable__label {background-color: #d4ebff;}#sk-container-id-3 input.sk-hidden--visually {border: 0;clip: rect(1px 1px 1px 1px);clip: rect(1px, 1px, 1px, 1px);height: 1px;margin: -1px;overflow: hidden;padding: 0;position: absolute;width: 1px;}#sk-container-id-3 div.sk-estimator {font-family: monospace;background-color: #f0f8ff;border: 1px dotted black;border-radius: 0.25em;box-sizing: border-box;margin-bottom: 0.5em;}#sk-container-id-3 div.sk-estimator:hover {background-color: #d4ebff;}#sk-container-id-3 div.sk-parallel-item::after {content: \"\";width: 100%;border-bottom: 1px solid gray;flex-grow: 1;}#sk-container-id-3 div.sk-label:hover label.sk-toggleable__label {background-color: #d4ebff;}#sk-container-id-3 div.sk-serial::before {content: \"\";position: absolute;border-left: 1px solid gray;box-sizing: border-box;top: 0;bottom: 0;left: 50%;z-index: 0;}#sk-container-id-3 div.sk-serial {display: flex;flex-direction: column;align-items: center;background-color: white;padding-right: 0.2em;padding-left: 0.2em;position: relative;}#sk-container-id-3 div.sk-item {position: relative;z-index: 1;}#sk-container-id-3 div.sk-parallel {display: flex;align-items: stretch;justify-content: center;background-color: white;position: relative;}#sk-container-id-3 div.sk-item::before, #sk-container-id-3 div.sk-parallel-item::before {content: \"\";position: absolute;border-left: 1px solid gray;box-sizing: border-box;top: 0;bottom: 0;left: 50%;z-index: -1;}#sk-container-id-3 div.sk-parallel-item {display: flex;flex-direction: column;z-index: 1;position: relative;background-color: white;}#sk-container-id-3 div.sk-parallel-item:first-child::after {align-self: flex-end;width: 50%;}#sk-container-id-3 div.sk-parallel-item:last-child::after {align-self: flex-start;width: 50%;}#sk-container-id-3 div.sk-parallel-item:only-child::after {width: 0;}#sk-container-id-3 div.sk-dashed-wrapped {border: 1px dashed gray;margin: 0 0.4em 0.5em 0.4em;box-sizing: border-box;padding-bottom: 0.4em;background-color: white;}#sk-container-id-3 div.sk-label label {font-family: monospace;font-weight: bold;display: inline-block;line-height: 1.2em;}#sk-container-id-3 div.sk-label-container {text-align: center;}#sk-container-id-3 div.sk-container {/* jupyter's `normalize.less` sets `[hidden] { display: none; }` but bootstrap.min.css set `[hidden] { display: none !important; }` so we also need the `!important` here to be able to override the default hidden behavior on the sphinx rendered scikit-learn.org. See: https://github.com/scikit-learn/scikit-learn/issues/21755 */display: inline-block !important;position: relative;}#sk-container-id-3 div.sk-text-repr-fallback {display: none;}</style><div id=\"sk-container-id-3\" class=\"sk-top-container\"><div class=\"sk-text-repr-fallback\"><pre>GradientBoostingClassifier()</pre><b>In a Jupyter environment, please rerun this cell to show the HTML representation or trust the notebook. <br />On GitHub, the HTML representation is unable to render, please try loading this page with nbviewer.org.</b></div><div class=\"sk-container\" hidden><div class=\"sk-item\"><div class=\"sk-estimator sk-toggleable\"><input class=\"sk-toggleable__control sk-hidden--visually\" id=\"sk-estimator-id-5\" type=\"checkbox\" checked><label for=\"sk-estimator-id-5\" class=\"sk-toggleable__label sk-toggleable__label-arrow\">GradientBoostingClassifier</label><div class=\"sk-toggleable__content\"><pre>GradientBoostingClassifier()</pre></div></div></div></div></div>"
      ],
      "text/plain": [
       "GradientBoostingClassifier()"
      ]
     },
     "execution_count": 91,
     "metadata": {},
     "output_type": "execute_result"
    }
   ],
   "source": [
    "rf = GradientBoostingClassifier()\n",
    "rf.fit(X, y)"
   ]
  },
  {
   "cell_type": "code",
   "execution_count": 92,
   "id": "adbf557c",
   "metadata": {},
   "outputs": [
    {
     "name": "stdout",
     "output_type": "stream",
     "text": [
      "Training accuracy: 1.0\n",
      "Training precision: 1.0\n",
      "Training recall: 1.0\n",
      "Validation accuracy: 0.9875\n",
      "Validation precision: 0.9896907216494846\n",
      "Validation recall: 0.96\n"
     ]
    }
   ],
   "source": [
    "y_train_pred = rf.predict(X)\n",
    "y_val_pred = rf.predict(X_val)\n",
    "\n",
    "train_accuracy = accuracy_score(y, y_train_pred)\n",
    "train_precision = precision_score(y, y_train_pred)\n",
    "train_recall = recall_score(y, y_train_pred)\n",
    "\n",
    "val_accuracy = accuracy_score(y_val, y_val_pred)\n",
    "val_precision = precision_score(y_val, y_val_pred)\n",
    "val_recall = recall_score(y_val, y_val_pred)\n",
    "\n",
    "print(\"Training accuracy:\", train_accuracy)\n",
    "print(\"Training precision:\", train_precision)\n",
    "print(\"Training recall:\", train_recall)\n",
    "\n",
    "print(\"Validation accuracy:\", val_accuracy)\n",
    "print(\"Validation precision:\", val_precision)\n",
    "print(\"Validation recall:\", val_recall)"
   ]
  },
  {
   "cell_type": "code",
   "execution_count": 93,
   "id": "6d6d39c4",
   "metadata": {
    "scrolled": true
   },
   "outputs": [
    {
     "data": {
      "image/png": "[encoded data removed]",
      "text/plain": [
       "<Figure size 432x288 with 2 Axes>"
      ]
     },
     "metadata": {
      "needs_background": "light"
     },
     "output_type": "display_data"
    }
   ],
   "source": [
    "Accuracy = metrics.accuracy_score(y_val, y_val_pred)\n",
    "confusion_matrix = metrics.confusion_matrix(y_val, y_val_pred)\n",
    "cmap = plt.get_cmap('Spectral')\n",
    "plt.imshow(confusion_matrix, interpolation='nearest', cmap=cmap)\n",
    "plt.title('Confusion Matrix')\n",
    "plt.colorbar()\n",
    "tick_marks = [0,1]\n",
    "plt.xticks(tick_marks, tick_marks)\n",
    "plt.yticks(tick_marks, tick_marks)\n",
    "plt.ylabel('True label')\n",
    "plt.xlabel('Predicted label')\n",
    "for i in range(len(confusion_matrix)):\n",
    "    for j in range(len(confusion_matrix[0])):\n",
    "        plt.text(j,i,format(confusion_matrix[i][j]),horizontalalignment='center',color='white' if confusion_matrix[i][j]>confusion_matrix.max()/2 else 'black')\n",
    "plt.show()"
   ]
  },
  {
   "cell_type": "code",
   "execution_count": 94,
   "id": "919825bb",
   "metadata": {
    "scrolled": true
   },
   "outputs": [
    {
     "data": {
      "image/png": "[encoded data removed]",
      "text/plain": [
       "<Figure size 432x288 with 2 Axes>"
      ]
     },
     "metadata": {
      "needs_background": "light"
     },
     "output_type": "display_data"
    }
   ],
   "source": [
    "Accuracy = metrics.accuracy_score(y, y_train_pred)\n",
    "confusion_matrix = metrics.confusion_matrix(y, y_train_pred)\n",
    "cmap = plt.get_cmap('Spectral')\n",
    "plt.imshow(confusion_matrix, interpolation='nearest', cmap=cmap)\n",
    "plt.title('Confusion Matrix')\n",
    "plt.colorbar()\n",
    "tick_marks = [0,1]\n",
    "plt.xticks(tick_marks, tick_marks)\n",
    "plt.yticks(tick_marks, tick_marks)\n",
    "plt.ylabel('True label')\n",
    "plt.xlabel('Predicted label')\n",
    "for i in range(len(confusion_matrix)):\n",
    "    for j in range(len(confusion_matrix[0])):\n",
    "        plt.text(j,i,format(confusion_matrix[i][j]),horizontalalignment='center',color='white' if confusion_matrix[i][j]>confusion_matrix.max()/2 else 'black')\n",
    "plt.show()"
   ]
  },
  {
   "cell_type": "markdown",
   "id": "ead19a13",
   "metadata": {},
   "source": [
    "# Gradient Boost (Grid Search)"
   ]
  },
  {
   "cell_type": "code",
   "execution_count": 96,
   "id": "a5261a3a",
   "metadata": {},
   "outputs": [
    {
     "name": "stdout",
     "output_type": "stream",
     "text": [
      "Best parameters: {'max_depth': 10, 'n_estimators': 40, 'subsample': 0.5}\n",
      "Training accuracy: 1.0\n",
      "Training precision: 1.0\n",
      "Training recall: 1.0\n",
      "Validation accuracy: 0.9675\n",
      "Validation precision: 0.9887640449438202\n",
      "Validation recall: 0.88\n"
     ]
    }
   ],
   "source": [
    "param_grid = {\n",
    "    'n_estimators': [20,30,40,50],\n",
    "    'subsample': [0.2,0.3,0.4,0.5,0.6],\n",
    "    'max_depth': [5,6,7,8,9,10],\n",
    "   \n",
    "}\n",
    "grid_search = GridSearchCV(rf, param_grid, cv=5, n_jobs=-1)\n",
    "grid_search.fit(X, y)\n",
    "\n",
    "print(\"Best parameters:\", grid_search.best_params_)\n",
    "\n",
    "best_rf = grid_search.best_estimator_\n",
    "y_train_pred = best_rf.predict(X)\n",
    "y_val_pred = best_rf.predict(X_val)\n",
    "\n",
    "train_accuracy = accuracy_score(y, y_train_pred)\n",
    "train_precision = precision_score(y, y_train_pred)\n",
    "train_recall = recall_score(y, y_train_pred)\n",
    "\n",
    "val_accuracy = accuracy_score(y_val, y_val_pred)\n",
    "val_precision = precision_score(y_val, y_val_pred)\n",
    "val_recall = recall_score(y_val, y_val_pred)\n",
    "\n",
    "print(\"Training accuracy:\", train_accuracy)\n",
    "print(\"Training precision:\", train_precision)\n",
    "print(\"Training recall:\", train_recall)\n",
    "\n",
    "print(\"Validation accuracy:\", val_accuracy)\n",
    "print(\"Validation precision:\", val_precision)\n",
    "print(\"Validation recall:\", val_recall)"
   ]
  },
  {
   "cell_type": "code",
   "execution_count": 97,
   "id": "b5b62a24",
   "metadata": {
    "scrolled": true
   },
   "outputs": [
    {
     "data": {
      "image/png": "[encoded data removed]",
      "text/plain": [
       "<Figure size 432x288 with 2 Axes>"
      ]
     },
     "metadata": {
      "needs_background": "light"
     },
     "output_type": "display_data"
    }
   ],
   "source": [
    "Accuracy = metrics.accuracy_score(y_val, y_val_pred)\n",
    "confusion_matrix = metrics.confusion_matrix(y_val, y_val_pred)\n",
    "cmap = plt.get_cmap('Spectral')\n",
    "plt.imshow(confusion_matrix, interpolation='nearest', cmap=cmap)\n",
    "plt.title('Confusion Matrix')\n",
    "plt.colorbar()\n",
    "tick_marks = [0,1]\n",
    "plt.xticks(tick_marks, tick_marks)\n",
    "plt.yticks(tick_marks, tick_marks)\n",
    "plt.ylabel('True label')\n",
    "plt.xlabel('Predicted label')\n",
    "for i in range(len(confusion_matrix)):\n",
    "    for j in range(len(confusion_matrix[0])):\n",
    "        plt.text(j,i,format(confusion_matrix[i][j]),horizontalalignment='center',color='white' if confusion_matrix[i][j]>confusion_matrix.max()/2 else 'black')\n",
    "plt.show()"
   ]
  },
  {
   "cell_type": "code",
   "execution_count": 98,
   "id": "4d5a1719",
   "metadata": {
    "scrolled": true
   },
   "outputs": [
    {
     "data": {
      "image/png": "[encoded data removed]",
      "text/plain": [
       "<Figure size 432x288 with 2 Axes>"
      ]
     },
     "metadata": {
      "needs_background": "light"
     },
     "output_type": "display_data"
    }
   ],
   "source": [
    "Accuracy = metrics.accuracy_score(y, y_train_pred)\n",
    "confusion_matrix = metrics.confusion_matrix(y, y_train_pred)\n",
    "cmap = plt.get_cmap('Spectral')\n",
    "plt.imshow(confusion_matrix, interpolation='nearest', cmap=cmap)\n",
    "plt.title('Confusion Matrix')\n",
    "plt.colorbar()\n",
    "tick_marks = [0,1]\n",
    "plt.xticks(tick_marks, tick_marks)\n",
    "plt.yticks(tick_marks, tick_marks)\n",
    "plt.ylabel('True label')\n",
    "plt.xlabel('Predicted label')\n",
    "for i in range(len(confusion_matrix)):\n",
    "    for j in range(len(confusion_matrix[0])):\n",
    "        plt.text(j,i,format(confusion_matrix[i][j]),horizontalalignment='center',color='white' if confusion_matrix[i][j]>confusion_matrix.max()/2 else 'black')\n",
    "plt.show()"
   ]
  },
  {
   "cell_type": "markdown",
   "id": "d07bd5fa",
   "metadata": {},
   "source": [
    "# XGBoost"
   ]
  },
  {
   "cell_type": "code",
   "execution_count": 27,
   "id": "f3d48cc3",
   "metadata": {},
   "outputs": [
    {
     "name": "stdout",
     "output_type": "stream",
     "text": [
      "8.729193925857544\n",
      "Training accuracy: 1.0\n",
      "Training precision: 1.0\n",
      "Training recall: 1.0\n",
      "Validation accuracy: 0.9875\n",
      "Validation precision: 1.0\n",
      "Validation recall: 0.95\n"
     ]
    }
   ],
   "source": [
    "rf = XGBClassifier()\n",
    "start_time = time.time()\n",
    "rf.fit(X, y)\n",
    "train_time = time.time() - start_time\n",
    "print(train_time)\n",
    "y_train_pred = rf.predict(X)\n",
    "y_val_pred = rf.predict(X_val)\n",
    "\n",
    "train_accuracy = accuracy_score(y, y_train_pred)\n",
    "train_precision = precision_score(y, y_train_pred)\n",
    "train_recall = recall_score(y, y_train_pred)\n",
    "\n",
    "val_accuracy = accuracy_score(y_val, y_val_pred)\n",
    "val_precision = precision_score(y_val, y_val_pred)\n",
    "val_recall = recall_score(y_val, y_val_pred)\n",
    "\n",
    "print(\"Training accuracy:\", train_accuracy)\n",
    "print(\"Training precision:\", train_precision)\n",
    "print(\"Training recall:\", train_recall)\n",
    "\n",
    "print(\"Validation accuracy:\", val_accuracy)\n",
    "print(\"Validation precision:\", val_precision)\n",
    "print(\"Validation recall:\", val_recall)"
   ]
  },
  {
   "cell_type": "code",
   "execution_count": 30,
   "id": "9bf70dcf",
   "metadata": {},
   "outputs": [
    {
     "data": {
      "image/png": "[encoded data removed]",
      "text/plain": [
       "<Figure size 432x288 with 2 Axes>"
      ]
     },
     "metadata": {
      "needs_background": "light"
     },
     "output_type": "display_data"
    }
   ],
   "source": [
    "val_preds = rf.predict(X_val)\n",
    "Accuracy = metrics.accuracy_score(y_val, val_preds)\n",
    "confusion_matrix = metrics.confusion_matrix(y_val, val_preds)\n",
    "cmap = plt.get_cmap('Spectral')\n",
    "plt.imshow(confusion_matrix, interpolation='nearest', cmap=cmap)\n",
    "plt.title('Confusion Matrix')\n",
    "plt.colorbar()\n",
    "tick_marks = [0,1]\n",
    "plt.xticks(tick_marks, tick_marks)\n",
    "plt.yticks(tick_marks, tick_marks)\n",
    "plt.ylabel('True label')\n",
    "plt.xlabel('Predicted label')\n",
    "for i in range(len(confusion_matrix)):\n",
    "    for j in range(len(confusion_matrix[0])):\n",
    "        plt.text(j,i,format(confusion_matrix[i][j]),horizontalalignment='center',color='white' if confusion_matrix[i][j]>confusion_matrix.max()/2 else 'black')\n",
    "plt.show()"
   ]
  },
  {
   "cell_type": "code",
   "execution_count": 31,
   "id": "d185deea",
   "metadata": {},
   "outputs": [
    {
     "data": {
      "image/png": "[encoded data removed]",
      "text/plain": [
       "<Figure size 432x288 with 2 Axes>"
      ]
     },
     "metadata": {
      "needs_background": "light"
     },
     "output_type": "display_data"
    }
   ],
   "source": [
    "t_preds = rf.predict(X)\n",
    "Accuracy = metrics.accuracy_score(y, t_preds)\n",
    "confusion_matrix = metrics.confusion_matrix(y, t_preds)\n",
    "cmap = plt.get_cmap('Spectral')\n",
    "plt.imshow(confusion_matrix, interpolation='nearest', cmap=cmap)\n",
    "plt.title('Confusion Matrix')\n",
    "plt.colorbar()\n",
    "tick_marks = [0,1]\n",
    "plt.xticks(tick_marks, tick_marks)\n",
    "plt.yticks(tick_marks, tick_marks)\n",
    "plt.ylabel('True label')\n",
    "plt.xlabel('Predicted label')\n",
    "for i in range(len(confusion_matrix)):\n",
    "    for j in range(len(confusion_matrix[0])):\n",
    "        plt.text(j,i,format(confusion_matrix[i][j]),horizontalalignment='center',color='white' if confusion_matrix[i][j]>confusion_matrix.max()/2 else 'black')\n",
    "plt.show()"
   ]
  },
  {
   "cell_type": "code",
   "execution_count": null,
   "id": "db071f48",
   "metadata": {},
   "outputs": [],
   "source": [
    "param_grid = {\n",
    "    'n_estimators': [20,30,40,50],\n",
    "    'subsample': [0.2,0.3,0.4,0.5,0.6],\n",
    "    'max_depth': [5,6,7,8,9,10],\n",
    "   \n",
    "}\n",
    "grid_search = GridSearchCV(rf, param_grid, cv=5, n_jobs=-1)\n",
    "grid_search.fit(X, y)\n",
    "\n",
    "print(\"Best parameters:\", grid_search.best_params_)\n",
    "\n",
    "best_rf = grid_search.best_estimator_\n",
    "y_train_pred = best_rf.predict(X)\n",
    "y_val_pred = best_rf.predict(X_val)\n",
    "\n",
    "train_accuracy = accuracy_score(y, y_train_pred)\n",
    "train_precision = precision_score(y, y_train_pred)\n",
    "train_recall = recall_score(y, y_train_pred)\n",
    "\n",
    "val_accuracy = accuracy_score(y_val, y_val_pred)\n",
    "val_precision = precision_score(y_val, y_val_pred)\n",
    "val_recall = recall_score(y_val, y_val_pred)\n",
    "\n",
    "print(\"Training accuracy:\", train_accuracy)\n",
    "print(\"Training precision:\", train_precision)\n",
    "print(\"Training recall:\", train_recall)\n",
    "\n",
    "print(\"Validation accuracy:\", val_accuracy)\n",
    "print(\"Validation precision:\", val_precision)\n",
    "print(\"Validation recall:\", val_recall)"
   ]
  },
  {
   "cell_type": "code",
   "execution_count": 34,
   "id": "0936508d",
   "metadata": {},
   "outputs": [],
   "source": [
    "def process(folder_path):\n",
    "    label_folders = {'person': 1, 'airplane': 2, 'car': 0, 'dog': 3}\n",
    "    data=[]\n",
    "    #Main folder which contains 4 subfolders\n",
    "    for folder in os.listdir(folder_path):\n",
    "        if folder in label_folders:\n",
    "            label = label_folders[folder]\n",
    "            folder_images = os.listdir(os.path.join(folder_path, folder))\n",
    "            for image_name in folder_images:\n",
    "                if not image_name.startswith('.') and image_name.endswith(('png')):\n",
    "                    image_path = os.path.join(folder_path, folder, image_name)\n",
    "                    image = cv2.imread(image_path)\n",
    "                    if image is not None:\n",
    "                        data.append([image,label])\n",
    "                    else:\n",
    "                        print(\"Could not read image: \" + image_path)\n",
    "    df = pd.DataFrame()\n",
    "    for i in range(len(data)):\n",
    "        row = data[i][0].reshape(1,-1)\n",
    "        row = row.flatten()\n",
    "        row = np.append(row,data[i][1])\n",
    "        df = df.append(pd.Series(row), ignore_index=True)\n",
    "    X = df.iloc[:,:-1]\n",
    "    y = df[3072]\n",
    "    return X,y"
   ]
  },
  {
   "cell_type": "code",
   "execution_count": 35,
   "id": "2920a9aa",
   "metadata": {},
   "outputs": [
    {
     "name": "stderr",
     "output_type": "stream",
     "text": [
      "/var/folders/8v/4n20m59n1z7g8vbcnjym5g_r0000gn/T/ipykernel_96724/2656463615.py:22: FutureWarning: The frame.append method is deprecated and will be removed from pandas in a future version. Use pandas.concat instead.\n",
      "  df = df.append(pd.Series(row), ignore_index=True)\n",
      "/var/folders/8v/4n20m59n1z7g8vbcnjym5g_r0000gn/T/ipykernel_96724/2656463615.py:22: FutureWarning: The frame.append method is deprecated and will be removed from pandas in a future version. Use pandas.concat instead.\n",
      "  df = df.append(pd.Series(row), ignore_index=True)\n"
     ]
    }
   ],
   "source": [
    "X,y=process('/Users/valayaramchandani/Downloads/trainpics')"
   ]
  },
  {
   "cell_type": "code",
   "execution_count": 36,
   "id": "4d35551b",
   "metadata": {},
   "outputs": [
    {
     "data": {
      "text/html": [
       "<div>\n",
       "<style scoped>\n",
       "    .dataframe tbody tr th:only-of-type {\n",
       "        vertical-align: middle;\n",
       "    }\n",
       "\n",
       "    .dataframe tbody tr th {\n",
       "        vertical-align: top;\n",
       "    }\n",
       "\n",
       "    .dataframe thead th {\n",
       "        text-align: right;\n",
       "    }\n",
       "</style>\n",
       "<table border=\"1\" class=\"dataframe\">\n",
       "  <thead>\n",
       "    <tr style=\"text-align: right;\">\n",
       "      <th></th>\n",
       "      <th>0</th>\n",
       "      <th>1</th>\n",
       "      <th>2</th>\n",
       "      <th>3</th>\n",
       "      <th>4</th>\n",
       "      <th>5</th>\n",
       "      <th>6</th>\n",
       "      <th>7</th>\n",
       "      <th>8</th>\n",
       "      <th>9</th>\n",
       "      <th>...</th>\n",
       "      <th>3062</th>\n",
       "      <th>3063</th>\n",
       "      <th>3064</th>\n",
       "      <th>3065</th>\n",
       "      <th>3066</th>\n",
       "      <th>3067</th>\n",
       "      <th>3068</th>\n",
       "      <th>3069</th>\n",
       "      <th>3070</th>\n",
       "      <th>3071</th>\n",
       "    </tr>\n",
       "  </thead>\n",
       "  <tbody>\n",
       "    <tr>\n",
       "      <th>0</th>\n",
       "      <td>68</td>\n",
       "      <td>65</td>\n",
       "      <td>67</td>\n",
       "      <td>70</td>\n",
       "      <td>66</td>\n",
       "      <td>71</td>\n",
       "      <td>71</td>\n",
       "      <td>67</td>\n",
       "      <td>73</td>\n",
       "      <td>73</td>\n",
       "      <td>...</td>\n",
       "      <td>132</td>\n",
       "      <td>130</td>\n",
       "      <td>126</td>\n",
       "      <td>131</td>\n",
       "      <td>130</td>\n",
       "      <td>126</td>\n",
       "      <td>131</td>\n",
       "      <td>130</td>\n",
       "      <td>126</td>\n",
       "      <td>131</td>\n",
       "    </tr>\n",
       "    <tr>\n",
       "      <th>1</th>\n",
       "      <td>53</td>\n",
       "      <td>58</td>\n",
       "      <td>57</td>\n",
       "      <td>47</td>\n",
       "      <td>51</td>\n",
       "      <td>50</td>\n",
       "      <td>63</td>\n",
       "      <td>66</td>\n",
       "      <td>66</td>\n",
       "      <td>42</td>\n",
       "      <td>...</td>\n",
       "      <td>151</td>\n",
       "      <td>130</td>\n",
       "      <td>144</td>\n",
       "      <td>156</td>\n",
       "      <td>129</td>\n",
       "      <td>143</td>\n",
       "      <td>155</td>\n",
       "      <td>128</td>\n",
       "      <td>142</td>\n",
       "      <td>154</td>\n",
       "    </tr>\n",
       "    <tr>\n",
       "      <th>2</th>\n",
       "      <td>51</td>\n",
       "      <td>83</td>\n",
       "      <td>76</td>\n",
       "      <td>58</td>\n",
       "      <td>97</td>\n",
       "      <td>89</td>\n",
       "      <td>67</td>\n",
       "      <td>108</td>\n",
       "      <td>100</td>\n",
       "      <td>60</td>\n",
       "      <td>...</td>\n",
       "      <td>155</td>\n",
       "      <td>141</td>\n",
       "      <td>143</td>\n",
       "      <td>153</td>\n",
       "      <td>143</td>\n",
       "      <td>146</td>\n",
       "      <td>155</td>\n",
       "      <td>145</td>\n",
       "      <td>148</td>\n",
       "      <td>157</td>\n",
       "    </tr>\n",
       "    <tr>\n",
       "      <th>3</th>\n",
       "      <td>203</td>\n",
       "      <td>200</td>\n",
       "      <td>202</td>\n",
       "      <td>205</td>\n",
       "      <td>202</td>\n",
       "      <td>204</td>\n",
       "      <td>207</td>\n",
       "      <td>202</td>\n",
       "      <td>204</td>\n",
       "      <td>206</td>\n",
       "      <td>...</td>\n",
       "      <td>58</td>\n",
       "      <td>72</td>\n",
       "      <td>72</td>\n",
       "      <td>72</td>\n",
       "      <td>87</td>\n",
       "      <td>87</td>\n",
       "      <td>87</td>\n",
       "      <td>115</td>\n",
       "      <td>113</td>\n",
       "      <td>115</td>\n",
       "    </tr>\n",
       "    <tr>\n",
       "      <th>4</th>\n",
       "      <td>44</td>\n",
       "      <td>59</td>\n",
       "      <td>78</td>\n",
       "      <td>42</td>\n",
       "      <td>56</td>\n",
       "      <td>74</td>\n",
       "      <td>39</td>\n",
       "      <td>53</td>\n",
       "      <td>72</td>\n",
       "      <td>48</td>\n",
       "      <td>...</td>\n",
       "      <td>23</td>\n",
       "      <td>22</td>\n",
       "      <td>21</td>\n",
       "      <td>21</td>\n",
       "      <td>21</td>\n",
       "      <td>21</td>\n",
       "      <td>21</td>\n",
       "      <td>20</td>\n",
       "      <td>20</td>\n",
       "      <td>20</td>\n",
       "    </tr>\n",
       "    <tr>\n",
       "      <th>...</th>\n",
       "      <td>...</td>\n",
       "      <td>...</td>\n",
       "      <td>...</td>\n",
       "      <td>...</td>\n",
       "      <td>...</td>\n",
       "      <td>...</td>\n",
       "      <td>...</td>\n",
       "      <td>...</td>\n",
       "      <td>...</td>\n",
       "      <td>...</td>\n",
       "      <td>...</td>\n",
       "      <td>...</td>\n",
       "      <td>...</td>\n",
       "      <td>...</td>\n",
       "      <td>...</td>\n",
       "      <td>...</td>\n",
       "      <td>...</td>\n",
       "      <td>...</td>\n",
       "      <td>...</td>\n",
       "      <td>...</td>\n",
       "      <td>...</td>\n",
       "    </tr>\n",
       "    <tr>\n",
       "      <th>1995</th>\n",
       "      <td>93</td>\n",
       "      <td>67</td>\n",
       "      <td>43</td>\n",
       "      <td>102</td>\n",
       "      <td>91</td>\n",
       "      <td>73</td>\n",
       "      <td>143</td>\n",
       "      <td>115</td>\n",
       "      <td>89</td>\n",
       "      <td>152</td>\n",
       "      <td>...</td>\n",
       "      <td>73</td>\n",
       "      <td>146</td>\n",
       "      <td>109</td>\n",
       "      <td>74</td>\n",
       "      <td>143</td>\n",
       "      <td>108</td>\n",
       "      <td>74</td>\n",
       "      <td>144</td>\n",
       "      <td>107</td>\n",
       "      <td>73</td>\n",
       "    </tr>\n",
       "    <tr>\n",
       "      <th>1996</th>\n",
       "      <td>155</td>\n",
       "      <td>120</td>\n",
       "      <td>54</td>\n",
       "      <td>158</td>\n",
       "      <td>112</td>\n",
       "      <td>59</td>\n",
       "      <td>148</td>\n",
       "      <td>122</td>\n",
       "      <td>70</td>\n",
       "      <td>150</td>\n",
       "      <td>...</td>\n",
       "      <td>122</td>\n",
       "      <td>171</td>\n",
       "      <td>144</td>\n",
       "      <td>117</td>\n",
       "      <td>167</td>\n",
       "      <td>140</td>\n",
       "      <td>113</td>\n",
       "      <td>162</td>\n",
       "      <td>140</td>\n",
       "      <td>112</td>\n",
       "    </tr>\n",
       "    <tr>\n",
       "      <th>1997</th>\n",
       "      <td>102</td>\n",
       "      <td>108</td>\n",
       "      <td>107</td>\n",
       "      <td>103</td>\n",
       "      <td>109</td>\n",
       "      <td>104</td>\n",
       "      <td>111</td>\n",
       "      <td>112</td>\n",
       "      <td>104</td>\n",
       "      <td>109</td>\n",
       "      <td>...</td>\n",
       "      <td>118</td>\n",
       "      <td>115</td>\n",
       "      <td>120</td>\n",
       "      <td>118</td>\n",
       "      <td>115</td>\n",
       "      <td>120</td>\n",
       "      <td>118</td>\n",
       "      <td>115</td>\n",
       "      <td>120</td>\n",
       "      <td>118</td>\n",
       "    </tr>\n",
       "    <tr>\n",
       "      <th>1998</th>\n",
       "      <td>210</td>\n",
       "      <td>162</td>\n",
       "      <td>118</td>\n",
       "      <td>208</td>\n",
       "      <td>163</td>\n",
       "      <td>122</td>\n",
       "      <td>208</td>\n",
       "      <td>163</td>\n",
       "      <td>125</td>\n",
       "      <td>213</td>\n",
       "      <td>...</td>\n",
       "      <td>112</td>\n",
       "      <td>208</td>\n",
       "      <td>156</td>\n",
       "      <td>111</td>\n",
       "      <td>209</td>\n",
       "      <td>159</td>\n",
       "      <td>115</td>\n",
       "      <td>210</td>\n",
       "      <td>159</td>\n",
       "      <td>115</td>\n",
       "    </tr>\n",
       "    <tr>\n",
       "      <th>1999</th>\n",
       "      <td>128</td>\n",
       "      <td>104</td>\n",
       "      <td>76</td>\n",
       "      <td>129</td>\n",
       "      <td>105</td>\n",
       "      <td>77</td>\n",
       "      <td>66</td>\n",
       "      <td>178</td>\n",
       "      <td>224</td>\n",
       "      <td>149</td>\n",
       "      <td>...</td>\n",
       "      <td>78</td>\n",
       "      <td>138</td>\n",
       "      <td>113</td>\n",
       "      <td>79</td>\n",
       "      <td>137</td>\n",
       "      <td>111</td>\n",
       "      <td>81</td>\n",
       "      <td>132</td>\n",
       "      <td>108</td>\n",
       "      <td>78</td>\n",
       "    </tr>\n",
       "  </tbody>\n",
       "</table>\n",
       "<p>2000 rows × 3072 columns</p>\n",
       "</div>"
      ],
      "text/plain": [
       "      0     1     2     3     4     5     6     7     8     9     ...  3062  \\\n",
       "0       68    65    67    70    66    71    71    67    73    73  ...   132   \n",
       "1       53    58    57    47    51    50    63    66    66    42  ...   151   \n",
       "2       51    83    76    58    97    89    67   108   100    60  ...   155   \n",
       "3      203   200   202   205   202   204   207   202   204   206  ...    58   \n",
       "4       44    59    78    42    56    74    39    53    72    48  ...    23   \n",
       "...    ...   ...   ...   ...   ...   ...   ...   ...   ...   ...  ...   ...   \n",
       "1995    93    67    43   102    91    73   143   115    89   152  ...    73   \n",
       "1996   155   120    54   158   112    59   148   122    70   150  ...   122   \n",
       "1997   102   108   107   103   109   104   111   112   104   109  ...   118   \n",
       "1998   210   162   118   208   163   122   208   163   125   213  ...   112   \n",
       "1999   128   104    76   129   105    77    66   178   224   149  ...    78   \n",
       "\n",
       "      3063  3064  3065  3066  3067  3068  3069  3070  3071  \n",
       "0      130   126   131   130   126   131   130   126   131  \n",
       "1      130   144   156   129   143   155   128   142   154  \n",
       "2      141   143   153   143   146   155   145   148   157  \n",
       "3       72    72    72    87    87    87   115   113   115  \n",
       "4       22    21    21    21    21    21    20    20    20  \n",
       "...    ...   ...   ...   ...   ...   ...   ...   ...   ...  \n",
       "1995   146   109    74   143   108    74   144   107    73  \n",
       "1996   171   144   117   167   140   113   162   140   112  \n",
       "1997   115   120   118   115   120   118   115   120   118  \n",
       "1998   208   156   111   209   159   115   210   159   115  \n",
       "1999   138   113    79   137   111    81   132   108    78  \n",
       "\n",
       "[2000 rows x 3072 columns]"
      ]
     },
     "execution_count": 36,
     "metadata": {},
     "output_type": "execute_result"
    }
   ],
   "source": [
    "X"
   ]
  },
  {
   "cell_type": "code",
   "execution_count": 37,
   "id": "575b154d",
   "metadata": {},
   "outputs": [
    {
     "data": {
      "text/plain": [
       "0       0\n",
       "1       0\n",
       "2       0\n",
       "3       0\n",
       "4       0\n",
       "       ..\n",
       "1995    2\n",
       "1996    2\n",
       "1997    2\n",
       "1998    2\n",
       "1999    2\n",
       "Name: 3072, Length: 2000, dtype: int64"
      ]
     },
     "execution_count": 37,
     "metadata": {},
     "output_type": "execute_result"
    }
   ],
   "source": [
    "y"
   ]
  },
  {
   "cell_type": "code",
   "execution_count": 38,
   "id": "ef241ba5",
   "metadata": {},
   "outputs": [],
   "source": [
    "def testprocess(folder_path):\n",
    "    image_size = (32, 32)\n",
    "\n",
    "    data = []\n",
    "    test_image_ids = []\n",
    "\n",
    "    # Loop through all the image files in the folder\n",
    "    for filename in os.listdir(folder_path):\n",
    "            # Check if the file is an image\n",
    "            if filename.endswith(('jpeg', 'png', 'jpg')):\n",
    "                    # Read the image file\n",
    "                    image_id = filename.split(\".\")[0]\n",
    "                    test_image_ids.append(image_id)\n",
    "                    img = cv2.imread(os.path.join(folder_path, filename))\n",
    "                    if img is not None:\n",
    "                            # Resize the image to 32x32x3\n",
    "                            resized_img = cv2.resize(img, image_size)\n",
    "                            # Append the resized image to the data list\n",
    "                            data.append(resized_img)\n",
    "                    else:\n",
    "                        print(f\"Could not read image: {filename}\")\n",
    "    df_test = pd.DataFrame()\n",
    "    for i in range(len(data)):\n",
    "        row = data[i].reshape(1,-1)\n",
    "        row = row.flatten()\n",
    "        df_test = df_test.append(pd.Series(row), ignore_index=True)\n",
    "    return df_test, test_image_ids"
   ]
  },
  {
   "cell_type": "code",
   "execution_count": 39,
   "id": "e1cc1ee0",
   "metadata": {},
   "outputs": [
    {
     "name": "stderr",
     "output_type": "stream",
     "text": [
      "/var/folders/8v/4n20m59n1z7g8vbcnjym5g_r0000gn/T/ipykernel_96724/1847589202.py:26: FutureWarning: The frame.append method is deprecated and will be removed from pandas in a future version. Use pandas.concat instead.\n",
      "  df_test = df_test.append(pd.Series(row), ignore_index=True)\n",
      "/var/folders/8v/4n20m59n1z7g8vbcnjym5g_r0000gn/T/ipykernel_96724/1847589202.py:26: FutureWarning: The frame.append method is deprecated and will be removed from pandas in a future version. Use pandas.concat instead.\n",
      "  df_test = df_test.append(pd.Series(row), ignore_index=True)\n"
     ]
    }
   ],
   "source": [
    "df_test, test_image_ids=testprocess('/Users/valayaramchandani/Downloads/test_sample')"
   ]
  },
  {
   "cell_type": "code",
   "execution_count": 40,
   "id": "4546495a",
   "metadata": {},
   "outputs": [
    {
     "data": {
      "text/html": [
       "<div>\n",
       "<style scoped>\n",
       "    .dataframe tbody tr th:only-of-type {\n",
       "        vertical-align: middle;\n",
       "    }\n",
       "\n",
       "    .dataframe tbody tr th {\n",
       "        vertical-align: top;\n",
       "    }\n",
       "\n",
       "    .dataframe thead th {\n",
       "        text-align: right;\n",
       "    }\n",
       "</style>\n",
       "<table border=\"1\" class=\"dataframe\">\n",
       "  <thead>\n",
       "    <tr style=\"text-align: right;\">\n",
       "      <th></th>\n",
       "      <th>0</th>\n",
       "      <th>1</th>\n",
       "      <th>2</th>\n",
       "      <th>3</th>\n",
       "      <th>4</th>\n",
       "      <th>5</th>\n",
       "      <th>6</th>\n",
       "      <th>7</th>\n",
       "      <th>8</th>\n",
       "      <th>9</th>\n",
       "      <th>...</th>\n",
       "      <th>3062</th>\n",
       "      <th>3063</th>\n",
       "      <th>3064</th>\n",
       "      <th>3065</th>\n",
       "      <th>3066</th>\n",
       "      <th>3067</th>\n",
       "      <th>3068</th>\n",
       "      <th>3069</th>\n",
       "      <th>3070</th>\n",
       "      <th>3071</th>\n",
       "    </tr>\n",
       "  </thead>\n",
       "  <tbody>\n",
       "    <tr>\n",
       "      <th>0</th>\n",
       "      <td>212</td>\n",
       "      <td>215</td>\n",
       "      <td>203</td>\n",
       "      <td>211</td>\n",
       "      <td>219</td>\n",
       "      <td>209</td>\n",
       "      <td>210</td>\n",
       "      <td>217</td>\n",
       "      <td>207</td>\n",
       "      <td>211</td>\n",
       "      <td>...</td>\n",
       "      <td>32</td>\n",
       "      <td>37</td>\n",
       "      <td>37</td>\n",
       "      <td>27</td>\n",
       "      <td>54</td>\n",
       "      <td>51</td>\n",
       "      <td>42</td>\n",
       "      <td>36</td>\n",
       "      <td>33</td>\n",
       "      <td>23</td>\n",
       "    </tr>\n",
       "    <tr>\n",
       "      <th>1</th>\n",
       "      <td>179</td>\n",
       "      <td>186</td>\n",
       "      <td>181</td>\n",
       "      <td>179</td>\n",
       "      <td>186</td>\n",
       "      <td>181</td>\n",
       "      <td>175</td>\n",
       "      <td>186</td>\n",
       "      <td>183</td>\n",
       "      <td>95</td>\n",
       "      <td>...</td>\n",
       "      <td>180</td>\n",
       "      <td>174</td>\n",
       "      <td>183</td>\n",
       "      <td>180</td>\n",
       "      <td>174</td>\n",
       "      <td>185</td>\n",
       "      <td>179</td>\n",
       "      <td>176</td>\n",
       "      <td>186</td>\n",
       "      <td>180</td>\n",
       "    </tr>\n",
       "    <tr>\n",
       "      <th>2</th>\n",
       "      <td>255</td>\n",
       "      <td>255</td>\n",
       "      <td>255</td>\n",
       "      <td>250</td>\n",
       "      <td>255</td>\n",
       "      <td>254</td>\n",
       "      <td>176</td>\n",
       "      <td>202</td>\n",
       "      <td>242</td>\n",
       "      <td>156</td>\n",
       "      <td>...</td>\n",
       "      <td>57</td>\n",
       "      <td>154</td>\n",
       "      <td>141</td>\n",
       "      <td>65</td>\n",
       "      <td>150</td>\n",
       "      <td>134</td>\n",
       "      <td>57</td>\n",
       "      <td>150</td>\n",
       "      <td>130</td>\n",
       "      <td>52</td>\n",
       "    </tr>\n",
       "    <tr>\n",
       "      <th>3</th>\n",
       "      <td>217</td>\n",
       "      <td>247</td>\n",
       "      <td>252</td>\n",
       "      <td>221</td>\n",
       "      <td>253</td>\n",
       "      <td>254</td>\n",
       "      <td>223</td>\n",
       "      <td>254</td>\n",
       "      <td>251</td>\n",
       "      <td>233</td>\n",
       "      <td>...</td>\n",
       "      <td>128</td>\n",
       "      <td>100</td>\n",
       "      <td>131</td>\n",
       "      <td>126</td>\n",
       "      <td>116</td>\n",
       "      <td>140</td>\n",
       "      <td>136</td>\n",
       "      <td>112</td>\n",
       "      <td>139</td>\n",
       "      <td>129</td>\n",
       "    </tr>\n",
       "    <tr>\n",
       "      <th>4</th>\n",
       "      <td>98</td>\n",
       "      <td>134</td>\n",
       "      <td>106</td>\n",
       "      <td>99</td>\n",
       "      <td>146</td>\n",
       "      <td>124</td>\n",
       "      <td>96</td>\n",
       "      <td>141</td>\n",
       "      <td>123</td>\n",
       "      <td>100</td>\n",
       "      <td>...</td>\n",
       "      <td>76</td>\n",
       "      <td>168</td>\n",
       "      <td>164</td>\n",
       "      <td>164</td>\n",
       "      <td>66</td>\n",
       "      <td>70</td>\n",
       "      <td>71</td>\n",
       "      <td>91</td>\n",
       "      <td>115</td>\n",
       "      <td>104</td>\n",
       "    </tr>\n",
       "    <tr>\n",
       "      <th>5</th>\n",
       "      <td>162</td>\n",
       "      <td>168</td>\n",
       "      <td>179</td>\n",
       "      <td>161</td>\n",
       "      <td>164</td>\n",
       "      <td>178</td>\n",
       "      <td>164</td>\n",
       "      <td>169</td>\n",
       "      <td>178</td>\n",
       "      <td>164</td>\n",
       "      <td>...</td>\n",
       "      <td>128</td>\n",
       "      <td>104</td>\n",
       "      <td>108</td>\n",
       "      <td>126</td>\n",
       "      <td>101</td>\n",
       "      <td>108</td>\n",
       "      <td>127</td>\n",
       "      <td>103</td>\n",
       "      <td>105</td>\n",
       "      <td>129</td>\n",
       "    </tr>\n",
       "    <tr>\n",
       "      <th>6</th>\n",
       "      <td>24</td>\n",
       "      <td>9</td>\n",
       "      <td>67</td>\n",
       "      <td>14</td>\n",
       "      <td>5</td>\n",
       "      <td>55</td>\n",
       "      <td>17</td>\n",
       "      <td>3</td>\n",
       "      <td>60</td>\n",
       "      <td>30</td>\n",
       "      <td>...</td>\n",
       "      <td>174</td>\n",
       "      <td>160</td>\n",
       "      <td>166</td>\n",
       "      <td>171</td>\n",
       "      <td>167</td>\n",
       "      <td>172</td>\n",
       "      <td>177</td>\n",
       "      <td>174</td>\n",
       "      <td>178</td>\n",
       "      <td>182</td>\n",
       "    </tr>\n",
       "    <tr>\n",
       "      <th>7</th>\n",
       "      <td>178</td>\n",
       "      <td>184</td>\n",
       "      <td>193</td>\n",
       "      <td>146</td>\n",
       "      <td>162</td>\n",
       "      <td>165</td>\n",
       "      <td>153</td>\n",
       "      <td>163</td>\n",
       "      <td>167</td>\n",
       "      <td>185</td>\n",
       "      <td>...</td>\n",
       "      <td>136</td>\n",
       "      <td>96</td>\n",
       "      <td>108</td>\n",
       "      <td>108</td>\n",
       "      <td>103</td>\n",
       "      <td>111</td>\n",
       "      <td>115</td>\n",
       "      <td>104</td>\n",
       "      <td>115</td>\n",
       "      <td>113</td>\n",
       "    </tr>\n",
       "    <tr>\n",
       "      <th>8</th>\n",
       "      <td>114</td>\n",
       "      <td>142</td>\n",
       "      <td>149</td>\n",
       "      <td>134</td>\n",
       "      <td>162</td>\n",
       "      <td>169</td>\n",
       "      <td>106</td>\n",
       "      <td>135</td>\n",
       "      <td>140</td>\n",
       "      <td>137</td>\n",
       "      <td>...</td>\n",
       "      <td>110</td>\n",
       "      <td>94</td>\n",
       "      <td>133</td>\n",
       "      <td>135</td>\n",
       "      <td>110</td>\n",
       "      <td>148</td>\n",
       "      <td>149</td>\n",
       "      <td>128</td>\n",
       "      <td>165</td>\n",
       "      <td>165</td>\n",
       "    </tr>\n",
       "    <tr>\n",
       "      <th>9</th>\n",
       "      <td>164</td>\n",
       "      <td>118</td>\n",
       "      <td>54</td>\n",
       "      <td>166</td>\n",
       "      <td>119</td>\n",
       "      <td>57</td>\n",
       "      <td>163</td>\n",
       "      <td>116</td>\n",
       "      <td>54</td>\n",
       "      <td>166</td>\n",
       "      <td>...</td>\n",
       "      <td>93</td>\n",
       "      <td>153</td>\n",
       "      <td>128</td>\n",
       "      <td>96</td>\n",
       "      <td>154</td>\n",
       "      <td>129</td>\n",
       "      <td>97</td>\n",
       "      <td>150</td>\n",
       "      <td>127</td>\n",
       "      <td>95</td>\n",
       "    </tr>\n",
       "    <tr>\n",
       "      <th>10</th>\n",
       "      <td>247</td>\n",
       "      <td>247</td>\n",
       "      <td>247</td>\n",
       "      <td>246</td>\n",
       "      <td>246</td>\n",
       "      <td>246</td>\n",
       "      <td>249</td>\n",
       "      <td>247</td>\n",
       "      <td>247</td>\n",
       "      <td>245</td>\n",
       "      <td>...</td>\n",
       "      <td>68</td>\n",
       "      <td>175</td>\n",
       "      <td>174</td>\n",
       "      <td>176</td>\n",
       "      <td>183</td>\n",
       "      <td>182</td>\n",
       "      <td>185</td>\n",
       "      <td>185</td>\n",
       "      <td>183</td>\n",
       "      <td>189</td>\n",
       "    </tr>\n",
       "    <tr>\n",
       "      <th>11</th>\n",
       "      <td>127</td>\n",
       "      <td>142</td>\n",
       "      <td>145</td>\n",
       "      <td>134</td>\n",
       "      <td>149</td>\n",
       "      <td>152</td>\n",
       "      <td>76</td>\n",
       "      <td>91</td>\n",
       "      <td>94</td>\n",
       "      <td>149</td>\n",
       "      <td>...</td>\n",
       "      <td>104</td>\n",
       "      <td>94</td>\n",
       "      <td>80</td>\n",
       "      <td>95</td>\n",
       "      <td>93</td>\n",
       "      <td>89</td>\n",
       "      <td>102</td>\n",
       "      <td>71</td>\n",
       "      <td>42</td>\n",
       "      <td>47</td>\n",
       "    </tr>\n",
       "    <tr>\n",
       "      <th>12</th>\n",
       "      <td>227</td>\n",
       "      <td>142</td>\n",
       "      <td>173</td>\n",
       "      <td>202</td>\n",
       "      <td>148</td>\n",
       "      <td>183</td>\n",
       "      <td>168</td>\n",
       "      <td>175</td>\n",
       "      <td>217</td>\n",
       "      <td>155</td>\n",
       "      <td>...</td>\n",
       "      <td>157</td>\n",
       "      <td>82</td>\n",
       "      <td>43</td>\n",
       "      <td>173</td>\n",
       "      <td>132</td>\n",
       "      <td>63</td>\n",
       "      <td>188</td>\n",
       "      <td>162</td>\n",
       "      <td>82</td>\n",
       "      <td>205</td>\n",
       "    </tr>\n",
       "    <tr>\n",
       "      <th>13</th>\n",
       "      <td>47</td>\n",
       "      <td>48</td>\n",
       "      <td>46</td>\n",
       "      <td>47</td>\n",
       "      <td>51</td>\n",
       "      <td>49</td>\n",
       "      <td>74</td>\n",
       "      <td>82</td>\n",
       "      <td>81</td>\n",
       "      <td>62</td>\n",
       "      <td>...</td>\n",
       "      <td>187</td>\n",
       "      <td>116</td>\n",
       "      <td>128</td>\n",
       "      <td>126</td>\n",
       "      <td>66</td>\n",
       "      <td>73</td>\n",
       "      <td>68</td>\n",
       "      <td>56</td>\n",
       "      <td>60</td>\n",
       "      <td>55</td>\n",
       "    </tr>\n",
       "    <tr>\n",
       "      <th>14</th>\n",
       "      <td>134</td>\n",
       "      <td>156</td>\n",
       "      <td>152</td>\n",
       "      <td>160</td>\n",
       "      <td>184</td>\n",
       "      <td>153</td>\n",
       "      <td>158</td>\n",
       "      <td>180</td>\n",
       "      <td>151</td>\n",
       "      <td>158</td>\n",
       "      <td>...</td>\n",
       "      <td>140</td>\n",
       "      <td>95</td>\n",
       "      <td>141</td>\n",
       "      <td>136</td>\n",
       "      <td>106</td>\n",
       "      <td>157</td>\n",
       "      <td>146</td>\n",
       "      <td>83</td>\n",
       "      <td>123</td>\n",
       "      <td>112</td>\n",
       "    </tr>\n",
       "    <tr>\n",
       "      <th>15</th>\n",
       "      <td>98</td>\n",
       "      <td>100</td>\n",
       "      <td>108</td>\n",
       "      <td>40</td>\n",
       "      <td>43</td>\n",
       "      <td>59</td>\n",
       "      <td>115</td>\n",
       "      <td>121</td>\n",
       "      <td>137</td>\n",
       "      <td>193</td>\n",
       "      <td>...</td>\n",
       "      <td>133</td>\n",
       "      <td>124</td>\n",
       "      <td>124</td>\n",
       "      <td>126</td>\n",
       "      <td>127</td>\n",
       "      <td>124</td>\n",
       "      <td>126</td>\n",
       "      <td>127</td>\n",
       "      <td>122</td>\n",
       "      <td>124</td>\n",
       "    </tr>\n",
       "    <tr>\n",
       "      <th>16</th>\n",
       "      <td>99</td>\n",
       "      <td>84</td>\n",
       "      <td>82</td>\n",
       "      <td>99</td>\n",
       "      <td>84</td>\n",
       "      <td>82</td>\n",
       "      <td>102</td>\n",
       "      <td>87</td>\n",
       "      <td>85</td>\n",
       "      <td>106</td>\n",
       "      <td>...</td>\n",
       "      <td>94</td>\n",
       "      <td>39</td>\n",
       "      <td>60</td>\n",
       "      <td>82</td>\n",
       "      <td>52</td>\n",
       "      <td>70</td>\n",
       "      <td>92</td>\n",
       "      <td>52</td>\n",
       "      <td>64</td>\n",
       "      <td>80</td>\n",
       "    </tr>\n",
       "    <tr>\n",
       "      <th>17</th>\n",
       "      <td>1</td>\n",
       "      <td>1</td>\n",
       "      <td>1</td>\n",
       "      <td>1</td>\n",
       "      <td>1</td>\n",
       "      <td>1</td>\n",
       "      <td>3</td>\n",
       "      <td>3</td>\n",
       "      <td>3</td>\n",
       "      <td>2</td>\n",
       "      <td>...</td>\n",
       "      <td>31</td>\n",
       "      <td>45</td>\n",
       "      <td>29</td>\n",
       "      <td>33</td>\n",
       "      <td>30</td>\n",
       "      <td>21</td>\n",
       "      <td>24</td>\n",
       "      <td>16</td>\n",
       "      <td>11</td>\n",
       "      <td>13</td>\n",
       "    </tr>\n",
       "  </tbody>\n",
       "</table>\n",
       "<p>18 rows × 3072 columns</p>\n",
       "</div>"
      ],
      "text/plain": [
       "    0     1     2     3     4     5     6     7     8     9     ...  3062  \\\n",
       "0    212   215   203   211   219   209   210   217   207   211  ...    32   \n",
       "1    179   186   181   179   186   181   175   186   183    95  ...   180   \n",
       "2    255   255   255   250   255   254   176   202   242   156  ...    57   \n",
       "3    217   247   252   221   253   254   223   254   251   233  ...   128   \n",
       "4     98   134   106    99   146   124    96   141   123   100  ...    76   \n",
       "5    162   168   179   161   164   178   164   169   178   164  ...   128   \n",
       "6     24     9    67    14     5    55    17     3    60    30  ...   174   \n",
       "7    178   184   193   146   162   165   153   163   167   185  ...   136   \n",
       "8    114   142   149   134   162   169   106   135   140   137  ...   110   \n",
       "9    164   118    54   166   119    57   163   116    54   166  ...    93   \n",
       "10   247   247   247   246   246   246   249   247   247   245  ...    68   \n",
       "11   127   142   145   134   149   152    76    91    94   149  ...   104   \n",
       "12   227   142   173   202   148   183   168   175   217   155  ...   157   \n",
       "13    47    48    46    47    51    49    74    82    81    62  ...   187   \n",
       "14   134   156   152   160   184   153   158   180   151   158  ...   140   \n",
       "15    98   100   108    40    43    59   115   121   137   193  ...   133   \n",
       "16    99    84    82    99    84    82   102    87    85   106  ...    94   \n",
       "17     1     1     1     1     1     1     3     3     3     2  ...    31   \n",
       "\n",
       "    3063  3064  3065  3066  3067  3068  3069  3070  3071  \n",
       "0     37    37    27    54    51    42    36    33    23  \n",
       "1    174   183   180   174   185   179   176   186   180  \n",
       "2    154   141    65   150   134    57   150   130    52  \n",
       "3    100   131   126   116   140   136   112   139   129  \n",
       "4    168   164   164    66    70    71    91   115   104  \n",
       "5    104   108   126   101   108   127   103   105   129  \n",
       "6    160   166   171   167   172   177   174   178   182  \n",
       "7     96   108   108   103   111   115   104   115   113  \n",
       "8     94   133   135   110   148   149   128   165   165  \n",
       "9    153   128    96   154   129    97   150   127    95  \n",
       "10   175   174   176   183   182   185   185   183   189  \n",
       "11    94    80    95    93    89   102    71    42    47  \n",
       "12    82    43   173   132    63   188   162    82   205  \n",
       "13   116   128   126    66    73    68    56    60    55  \n",
       "14    95   141   136   106   157   146    83   123   112  \n",
       "15   124   124   126   127   124   126   127   122   124  \n",
       "16    39    60    82    52    70    92    52    64    80  \n",
       "17    45    29    33    30    21    24    16    11    13  \n",
       "\n",
       "[18 rows x 3072 columns]"
      ]
     },
     "execution_count": 40,
     "metadata": {},
     "output_type": "execute_result"
    }
   ],
   "source": [
    "df_test"
   ]
  },
  {
   "cell_type": "code",
   "execution_count": 41,
   "id": "36bd12a8",
   "metadata": {},
   "outputs": [
    {
     "data": {
      "text/plain": [
       "['img_10',\n",
       " 'img_1',\n",
       " 'img_11',\n",
       " 'img_13',\n",
       " 'img_2',\n",
       " 'img_3',\n",
       " 'img_12',\n",
       " 'img_16',\n",
       " 'img_7',\n",
       " 'img_6',\n",
       " 'img_17',\n",
       " 'img_15',\n",
       " 'img_4',\n",
       " 'img_5',\n",
       " 'img_14',\n",
       " 'img_8',\n",
       " 'img_9',\n",
       " 'img_18']"
      ]
     },
     "execution_count": 41,
     "metadata": {},
     "output_type": "execute_result"
    }
   ],
   "source": [
    "test_image_ids"
   ]
  },
  {
   "cell_type": "code",
   "execution_count": null,
   "id": "f0553382",
   "metadata": {},
   "outputs": [],
   "source": []
  }
 ],
 "metadata": {
  "kernelspec": {
   "display_name": "Python 3 (ipykernel)",
   "language": "python",
   "name": "python3"
  },
  "language_info": {
   "codemirror_mode": {
    "name": "ipython",
    "version": 3
   },
   "file_extension": ".py",
   "mimetype": "text/x-python",
   "name": "python",
   "nbconvert_exporter": "python",
   "pygments_lexer": "ipython3",
   "version": "3.9.12"
  }
 },
 "nbformat": 4,
 "nbformat_minor": 5
}
